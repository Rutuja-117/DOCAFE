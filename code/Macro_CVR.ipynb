{
  "nbformat": 4,
  "nbformat_minor": 0,
  "metadata": {
    "colab": {
      "provenance": []
    },
    "kernelspec": {
      "name": "python3",
      "display_name": "Python 3"
    },
    "language_info": {
      "name": "python"
    }
  },
  "cells": [
    {
      "cell_type": "code",
      "execution_count": null,
      "metadata": {
        "id": "rfnnTscuYexu"
      },
      "outputs": [],
      "source": [
        "import pandas as pd"
      ]
    },
    {
      "cell_type": "code",
      "source": [
        "# Load the weekly summary\n",
        "df = pd.read_csv(\"macro_weekly_summary.csv\")"
      ],
      "metadata": {
        "id": "L8IzsuYYY6BX"
      },
      "execution_count": null,
      "outputs": []
    },
    {
      "cell_type": "code",
      "source": [
        "# Step 1: Remove invalid rows (e.g., 0 users)\n",
        "df = df[df['users_covered'] > 0]"
      ],
      "metadata": {
        "id": "USYWRJg4Y8Q6"
      },
      "execution_count": null,
      "outputs": []
    },
    {
      "cell_type": "code",
      "source": [
        "# Step 2: Aggregate CVR per week (across all discount buckets)\n",
        "cvr_df = df.groupby('week').agg({'expected_conversions': 'sum', 'users_covered': 'sum'}).reset_index()\n",
        "cvr_df['CVR'] = cvr_df['expected_conversions'] / cvr_df['users_covered']"
      ],
      "metadata": {
        "id": "2bWwbwFsY-ZZ"
      },
      "execution_count": null,
      "outputs": []
    },
    {
      "cell_type": "code",
      "source": [
        "# Step 3: Prepare for Prophet\n",
        "df_cvr_prophet = cvr_df[['week', 'CVR']].copy()\n",
        "df_cvr_prophet.columns = ['ds', 'y']\n",
        "df_cvr_prophet['ds'] = pd.to_datetime(df_cvr_prophet['ds'].str.split('/').str[0])"
      ],
      "metadata": {
        "id": "6PEp4ycWZAjQ"
      },
      "execution_count": null,
      "outputs": []
    },
    {
      "cell_type": "code",
      "source": [
        "# Step 4: Prepare for LSTM (just the CVR values in sequence)\n",
        "df_cvr_lstm = df_cvr_prophet[['ds', 'y']].copy()"
      ],
      "metadata": {
        "id": "l7K_lANIZC6I"
      },
      "execution_count": null,
      "outputs": []
    },
    {
      "cell_type": "code",
      "source": [
        "# Optional: Preview\n",
        "print(\"✅ Prophet-ready CVR data:\")\n",
        "print(df_cvr_prophet)\n",
        "\n",
        "print(\"\\n✅ LSTM-ready CVR series:\")\n",
        "print(df_cvr_lstm['y'].values)"
      ],
      "metadata": {
        "colab": {
          "base_uri": "https://localhost:8080/"
        },
        "id": "aJw0rIz7ZE-3",
        "outputId": "241946eb-8e7f-446a-dc05-2e32b7453871"
      },
      "execution_count": null,
      "outputs": [
        {
          "output_type": "stream",
          "name": "stdout",
          "text": [
            "✅ Prophet-ready CVR data:\n",
            "          ds         y\n",
            "0 2020-12-28  0.386701\n",
            "1 2021-01-04  0.423560\n",
            "2 2021-01-11  0.446955\n",
            "3 2021-01-18  0.436896\n",
            "4 2021-01-25  0.439964\n",
            "5 2021-02-01  0.436756\n",
            "6 2021-02-08  0.418494\n",
            "7 2021-02-15  0.417959\n",
            "8 2021-02-22  0.405518\n",
            "9 2021-03-01  0.346783\n",
            "\n",
            "✅ LSTM-ready CVR series:\n",
            "[0.38670104 0.42355998 0.44695506 0.43689607 0.43996429 0.43675603\n",
            " 0.41849385 0.41795945 0.40551823 0.34678289]\n"
          ]
        }
      ]
    },
    {
      "cell_type": "code",
      "source": [
        "from prophet import Prophet\n",
        "import matplotlib.pyplot as plt"
      ],
      "metadata": {
        "id": "dJmoETCFZINn"
      },
      "execution_count": null,
      "outputs": []
    },
    {
      "cell_type": "code",
      "source": [
        "# Step 1: Instantiate and fit the model\n",
        "model = Prophet()\n",
        "model.fit(df_cvr_prophet)"
      ],
      "metadata": {
        "colab": {
          "base_uri": "https://localhost:8080/"
        },
        "id": "NUmz-zF3aRUY",
        "outputId": "d8a95b42-dde2-45df-969c-360ceda8fbd0"
      },
      "execution_count": null,
      "outputs": [
        {
          "output_type": "stream",
          "name": "stderr",
          "text": [
            "INFO:prophet:Disabling yearly seasonality. Run prophet with yearly_seasonality=True to override this.\n",
            "INFO:prophet:Disabling weekly seasonality. Run prophet with weekly_seasonality=True to override this.\n",
            "INFO:prophet:Disabling daily seasonality. Run prophet with daily_seasonality=True to override this.\n",
            "INFO:prophet:n_changepoints greater than number of observations. Using 7.\n",
            "DEBUG:cmdstanpy:input tempfile: /tmp/tmpjd47tunx/fteyvulc.json\n",
            "DEBUG:cmdstanpy:input tempfile: /tmp/tmpjd47tunx/h99orinu.json\n",
            "DEBUG:cmdstanpy:idx 0\n",
            "DEBUG:cmdstanpy:running CmdStan, num_threads: None\n",
            "DEBUG:cmdstanpy:CmdStan args: ['/usr/local/lib/python3.11/dist-packages/prophet/stan_model/prophet_model.bin', 'random', 'seed=12783', 'data', 'file=/tmp/tmpjd47tunx/fteyvulc.json', 'init=/tmp/tmpjd47tunx/h99orinu.json', 'output', 'file=/tmp/tmpjd47tunx/prophet_modeluoiywh4i/prophet_model-20250620173825.csv', 'method=optimize', 'algorithm=newton', 'iter=10000']\n",
            "17:38:25 - cmdstanpy - INFO - Chain [1] start processing\n",
            "INFO:cmdstanpy:Chain [1] start processing\n",
            "17:38:25 - cmdstanpy - INFO - Chain [1] done processing\n",
            "INFO:cmdstanpy:Chain [1] done processing\n"
          ]
        },
        {
          "output_type": "execute_result",
          "data": {
            "text/plain": [
              "<prophet.forecaster.Prophet at 0x789649bdd410>"
            ]
          },
          "metadata": {},
          "execution_count": 9
        }
      ]
    },
    {
      "cell_type": "code",
      "source": [
        "# Step 2: Create a future dataframe\n",
        "future = model.make_future_dataframe(periods=4, freq='W-MON')"
      ],
      "metadata": {
        "id": "lOOGIKe3a4ma"
      },
      "execution_count": null,
      "outputs": []
    },
    {
      "cell_type": "code",
      "source": [
        "# Step 3: Forecast\n",
        "forecast = model.predict(future)"
      ],
      "metadata": {
        "id": "nfGj6Ml5bEyk"
      },
      "execution_count": null,
      "outputs": []
    },
    {
      "cell_type": "code",
      "source": [
        "# Step 4: Plot\n",
        "model.plot(forecast)\n",
        "plt.title(\"Prophet Forecast – CVR\")\n",
        "plt.xlabel(\"Week\")\n",
        "plt.ylabel(\"CVR\")\n",
        "plt.grid(True)\n",
        "plt.tight_layout()\n",
        "plt.show()"
      ],
      "metadata": {
        "colab": {
          "base_uri": "https://localhost:8080/",
          "height": 607
        },
        "id": "s8xOo3bwbMYZ",
        "outputId": "b8b87e64-95a2-44d8-c52c-87f72b211ff0"
      },
      "execution_count": null,
      "outputs": [
        {
          "output_type": "display_data",
          "data": {
            "text/plain": [
              "<Figure size 1000x600 with 1 Axes>"
            ],
            "image/png": "[encoded data removed]"
          },
          "metadata": {}
        }
      ]
    },
    {
      "cell_type": "code",
      "source": [
        "# Step 5: View forecasted CVR values\n",
        "forecast[['ds', 'yhat', 'yhat_lower', 'yhat_upper']].tail(4)"
      ],
      "metadata": {
        "colab": {
          "base_uri": "https://localhost:8080/",
          "height": 174
        },
        "id": "uoE_KzWKbRnT",
        "outputId": "ff68dd27-bd2f-4066-eebc-8cb4bcdfe450"
      },
      "execution_count": null,
      "outputs": [
        {
          "output_type": "execute_result",
          "data": {
            "text/plain": [
              "           ds      yhat  yhat_lower  yhat_upper\n",
              "10 2021-03-08  0.392303    0.359500    0.427635\n",
              "11 2021-03-15  0.388035    0.354641    0.421280\n",
              "12 2021-03-22  0.383767    0.351536    0.418117\n",
              "13 2021-03-29  0.379499    0.346748    0.412347"
            ],
            "text/html": [
              "\n",
              "  <div id=\"df-586c0d04-8a22-4cdd-8404-0947dfe053e4\" class=\"colab-df-container\">\n",
              "    <div>\n",
              "<style scoped>\n",
              "    .dataframe tbody tr th:only-of-type {\n",
              "        vertical-align: middle;\n",
              "    }\n",
              "\n",
              "    .dataframe tbody tr th {\n",
              "        vertical-align: top;\n",
              "    }\n",
              "\n",
              "    .dataframe thead th {\n",
              "        text-align: right;\n",
              "    }\n",
              "</style>\n",
              "<table border=\"1\" class=\"dataframe\">\n",
              "  <thead>\n",
              "    <tr style=\"text-align: right;\">\n",
              "      <th></th>\n",
              "      <th>ds</th>\n",
              "      <th>yhat</th>\n",
              "      <th>yhat_lower</th>\n",
              "      <th>yhat_upper</th>\n",
              "    </tr>\n",
              "  </thead>\n",
              "  <tbody>\n",
              "    <tr>\n",
              "      <th>10</th>\n",
              "      <td>2021-03-08</td>\n",
              "      <td>0.392303</td>\n",
              "      <td>0.359500</td>\n",
              "      <td>0.427635</td>\n",
              "    </tr>\n",
              "    <tr>\n",
              "      <th>11</th>\n",
              "      <td>2021-03-15</td>\n",
              "      <td>0.388035</td>\n",
              "      <td>0.354641</td>\n",
              "      <td>0.421280</td>\n",
              "    </tr>\n",
              "    <tr>\n",
              "      <th>12</th>\n",
              "      <td>2021-03-22</td>\n",
              "      <td>0.383767</td>\n",
              "      <td>0.351536</td>\n",
              "      <td>0.418117</td>\n",
              "    </tr>\n",
              "    <tr>\n",
              "      <th>13</th>\n",
              "      <td>2021-03-29</td>\n",
              "      <td>0.379499</td>\n",
              "      <td>0.346748</td>\n",
              "      <td>0.412347</td>\n",
              "    </tr>\n",
              "  </tbody>\n",
              "</table>\n",
              "</div>\n",
              "    <div class=\"colab-df-buttons\">\n",
              "\n",
              "  <div class=\"colab-df-container\">\n",
              "    <button class=\"colab-df-convert\" onclick=\"convertToInteractive('df-586c0d04-8a22-4cdd-8404-0947dfe053e4')\"\n",
              "            title=\"Convert this dataframe to an interactive table.\"\n",
              "            style=\"display:none;\">\n",
              "\n",
              "  <svg xmlns=\"http://www.w3.org/2000/svg\" height=\"24px\" viewBox=\"0 -960 960 960\">\n",
              "    <path d=\"M120-120v-720h720v720H120Zm60-500h600v-160H180v160Zm220 220h160v-160H400v160Zm0 220h160v-160H400v160ZM180-400h160v-160H180v160Zm440 0h160v-160H620v160ZM180-180h160v-160H180v160Zm440 0h160v-160H620v160Z\"/>\n",
              "  </svg>\n",
              "    </button>\n",
              "\n",
              "  <style>\n",
              "    .colab-df-container {\n",
              "      display:flex;\n",
              "      gap: 12px;\n",
              "    }\n",
              "\n",
              "    .colab-df-convert {\n",
              "      background-color: #E8F0FE;\n",
              "      border: none;\n",
              "      border-radius: 50%;\n",
              "      cursor: pointer;\n",
              "      display: none;\n",
              "      fill: #1967D2;\n",
              "      height: 32px;\n",
              "      padding: 0 0 0 0;\n",
              "      width: 32px;\n",
              "    }\n",
              "\n",
              "    .colab-df-convert:hover {\n",
              "      background-color: #E2EBFA;\n",
              "      box-shadow: 0px 1px 2px rgba(60, 64, 67, 0.3), 0px 1px 3px 1px rgba(60, 64, 67, 0.15);\n",
              "      fill: #174EA6;\n",
              "    }\n",
              "\n",
              "    .colab-df-buttons div {\n",
              "      margin-bottom: 4px;\n",
              "    }\n",
              "\n",
              "    [theme=dark] .colab-df-convert {\n",
              "      background-color: #3B4455;\n",
              "      fill: #D2E3FC;\n",
              "    }\n",
              "\n",
              "    [theme=dark] .colab-df-convert:hover {\n",
              "      background-color: #434B5C;\n",
              "      box-shadow: 0px 1px 3px 1px rgba(0, 0, 0, 0.15);\n",
              "      filter: drop-shadow(0px 1px 2px rgba(0, 0, 0, 0.3));\n",
              "      fill: #FFFFFF;\n",
              "    }\n",
              "  </style>\n",
              "\n",
              "    <script>\n",
              "      const buttonEl =\n",
              "        document.querySelector('#df-586c0d04-8a22-4cdd-8404-0947dfe053e4 button.colab-df-convert');\n",
              "      buttonEl.style.display =\n",
              "        google.colab.kernel.accessAllowed ? 'block' : 'none';\n",
              "\n",
              "      async function convertToInteractive(key) {\n",
              "        const element = document.querySelector('#df-586c0d04-8a22-4cdd-8404-0947dfe053e4');\n",
              "        const dataTable =\n",
              "          await google.colab.kernel.invokeFunction('convertToInteractive',\n",
              "                                                    [key], {});\n",
              "        if (!dataTable) return;\n",
              "\n",
              "        const docLinkHtml = 'Like what you see? Visit the ' +\n",
              "          '<a target=\"_blank\" href=https://colab.research.google.com/notebooks/data_table.ipynb>data table notebook</a>'\n",
              "          + ' to learn more about interactive tables.';\n",
              "        element.innerHTML = '';\n",
              "        dataTable['output_type'] = 'display_data';\n",
              "        await google.colab.output.renderOutput(dataTable, element);\n",
              "        const docLink = document.createElement('div');\n",
              "        docLink.innerHTML = docLinkHtml;\n",
              "        element.appendChild(docLink);\n",
              "      }\n",
              "    </script>\n",
              "  </div>\n",
              "\n",
              "\n",
              "    <div id=\"df-73ec596f-083c-42a6-8c1f-403a3bf7e3cd\">\n",
              "      <button class=\"colab-df-quickchart\" onclick=\"quickchart('df-73ec596f-083c-42a6-8c1f-403a3bf7e3cd')\"\n",
              "                title=\"Suggest charts\"\n",
              "                style=\"display:none;\">\n",
              "\n",
              "<svg xmlns=\"http://www.w3.org/2000/svg\" height=\"24px\"viewBox=\"0 0 24 24\"\n",
              "     width=\"24px\">\n",
              "    <g>\n",
              "        <path d=\"M19 3H5c-1.1 0-2 .9-2 2v14c0 1.1.9 2 2 2h14c1.1 0 2-.9 2-2V5c0-1.1-.9-2-2-2zM9 17H7v-7h2v7zm4 0h-2V7h2v10zm4 0h-2v-4h2v4z\"/>\n",
              "    </g>\n",
              "</svg>\n",
              "      </button>\n",
              "\n",
              "<style>\n",
              "  .colab-df-quickchart {\n",
              "      --bg-color: #E8F0FE;\n",
              "      --fill-color: #1967D2;\n",
              "      --hover-bg-color: #E2EBFA;\n",
              "      --hover-fill-color: #174EA6;\n",
              "      --disabled-fill-color: #AAA;\n",
              "      --disabled-bg-color: #DDD;\n",
              "  }\n",
              "\n",
              "  [theme=dark] .colab-df-quickchart {\n",
              "      --bg-color: #3B4455;\n",
              "      --fill-color: #D2E3FC;\n",
              "      --hover-bg-color: #434B5C;\n",
              "      --hover-fill-color: #FFFFFF;\n",
              "      --disabled-bg-color: #3B4455;\n",
              "      --disabled-fill-color: #666;\n",
              "  }\n",
              "\n",
              "  .colab-df-quickchart {\n",
              "    background-color: var(--bg-color);\n",
              "    border: none;\n",
              "    border-radius: 50%;\n",
              "    cursor: pointer;\n",
              "    display: none;\n",
              "    fill: var(--fill-color);\n",
              "    height: 32px;\n",
              "    padding: 0;\n",
              "    width: 32px;\n",
              "  }\n",
              "\n",
              "  .colab-df-quickchart:hover {\n",
              "    background-color: var(--hover-bg-color);\n",
              "    box-shadow: 0 1px 2px rgba(60, 64, 67, 0.3), 0 1px 3px 1px rgba(60, 64, 67, 0.15);\n",
              "    fill: var(--button-hover-fill-color);\n",
              "  }\n",
              "\n",
              "  .colab-df-quickchart-complete:disabled,\n",
              "  .colab-df-quickchart-complete:disabled:hover {\n",
              "    background-color: var(--disabled-bg-color);\n",
              "    fill: var(--disabled-fill-color);\n",
              "    box-shadow: none;\n",
              "  }\n",
              "\n",
              "  .colab-df-spinner {\n",
              "    border: 2px solid var(--fill-color);\n",
              "    border-color: transparent;\n",
              "    border-bottom-color: var(--fill-color);\n",
              "    animation:\n",
              "      spin 1s steps(1) infinite;\n",
              "  }\n",
              "\n",
              "  @keyframes spin {\n",
              "    0% {\n",
              "      border-color: transparent;\n",
              "      border-bottom-color: var(--fill-color);\n",
              "      border-left-color: var(--fill-color);\n",
              "    }\n",
              "    20% {\n",
              "      border-color: transparent;\n",
              "      border-left-color: var(--fill-color);\n",
              "      border-top-color: var(--fill-color);\n",
              "    }\n",
              "    30% {\n",
              "      border-color: transparent;\n",
              "      border-left-color: var(--fill-color);\n",
              "      border-top-color: var(--fill-color);\n",
              "      border-right-color: var(--fill-color);\n",
              "    }\n",
              "    40% {\n",
              "      border-color: transparent;\n",
              "      border-right-color: var(--fill-color);\n",
              "      border-top-color: var(--fill-color);\n",
              "    }\n",
              "    60% {\n",
              "      border-color: transparent;\n",
              "      border-right-color: var(--fill-color);\n",
              "    }\n",
              "    80% {\n",
              "      border-color: transparent;\n",
              "      border-right-color: var(--fill-color);\n",
              "      border-bottom-color: var(--fill-color);\n",
              "    }\n",
              "    90% {\n",
              "      border-color: transparent;\n",
              "      border-bottom-color: var(--fill-color);\n",
              "    }\n",
              "  }\n",
              "</style>\n",
              "\n",
              "      <script>\n",
              "        async function quickchart(key) {\n",
              "          const quickchartButtonEl =\n",
              "            document.querySelector('#' + key + ' button');\n",
              "          quickchartButtonEl.disabled = true;  // To prevent multiple clicks.\n",
              "          quickchartButtonEl.classList.add('colab-df-spinner');\n",
              "          try {\n",
              "            const charts = await google.colab.kernel.invokeFunction(\n",
              "                'suggestCharts', [key], {});\n",
              "          } catch (error) {\n",
              "            console.error('Error during call to suggestCharts:', error);\n",
              "          }\n",
              "          quickchartButtonEl.classList.remove('colab-df-spinner');\n",
              "          quickchartButtonEl.classList.add('colab-df-quickchart-complete');\n",
              "        }\n",
              "        (() => {\n",
              "          let quickchartButtonEl =\n",
              "            document.querySelector('#df-73ec596f-083c-42a6-8c1f-403a3bf7e3cd button');\n",
              "          quickchartButtonEl.style.display =\n",
              "            google.colab.kernel.accessAllowed ? 'block' : 'none';\n",
              "        })();\n",
              "      </script>\n",
              "    </div>\n",
              "\n",
              "    </div>\n",
              "  </div>\n"
            ],
            "application/vnd.google.colaboratory.intrinsic+json": {
              "type": "dataframe",
              "summary": "{\n  \"name\": \"forecast[['ds', 'yhat', 'yhat_lower', 'yhat_upper']]\",\n  \"rows\": 4,\n  \"fields\": [\n    {\n      \"column\": \"ds\",\n      \"properties\": {\n        \"dtype\": \"date\",\n        \"min\": \"2021-03-08 00:00:00\",\n        \"max\": \"2021-03-29 00:00:00\",\n        \"num_unique_values\": 4,\n        \"samples\": [\n          \"2021-03-15 00:00:00\",\n          \"2021-03-29 00:00:00\",\n          \"2021-03-08 00:00:00\"\n        ],\n        \"semantic_type\": \"\",\n        \"description\": \"\"\n      }\n    },\n    {\n      \"column\": \"yhat\",\n      \"properties\": {\n        \"dtype\": \"number\",\n        \"std\": 0.005509910462253716,\n        \"min\": 0.37949929549947703,\n        \"max\": 0.39230317037511864,\n        \"num_unique_values\": 4,\n        \"samples\": [\n          0.3880352120832381,\n          0.37949929549947703,\n          0.39230317037511864\n        ],\n        \"semantic_type\": \"\",\n        \"description\": \"\"\n      }\n    },\n    {\n      \"column\": \"yhat_lower\",\n      \"properties\": {\n        \"dtype\": \"number\",\n        \"std\": 0.005358210604392654,\n        \"min\": 0.34674775431678834,\n        \"max\": 0.35950008424363933,\n        \"num_unique_values\": 4,\n        \"samples\": [\n          0.35464071750043097,\n          0.34674775431678834,\n          0.35950008424363933\n        ],\n        \"semantic_type\": \"\",\n        \"description\": \"\"\n      }\n    },\n    {\n      \"column\": \"yhat_upper\",\n      \"properties\": {\n        \"dtype\": \"number\",\n        \"std\": 0.006375703260707269,\n        \"min\": 0.4123473284908303,\n        \"max\": 0.42763522001864024,\n        \"num_unique_values\": 4,\n        \"samples\": [\n          0.42127982082815374,\n          0.4123473284908303,\n          0.42763522001864024\n        ],\n        \"semantic_type\": \"\",\n        \"description\": \"\"\n      }\n    }\n  ]\n}"
            }
          },
          "metadata": {},
          "execution_count": 14
        }
      ]
    },
    {
      "cell_type": "code",
      "source": [
        "import numpy as np\n",
        "import pandas as pd\n",
        "import matplotlib.pyplot as plt\n",
        "from tensorflow.keras.models import Sequential\n",
        "from tensorflow.keras.layers import LSTM, Dense\n",
        "from sklearn.preprocessing import MinMaxScaler"
      ],
      "metadata": {
        "id": "O8dMpSxibcxC"
      },
      "execution_count": null,
      "outputs": []
    },
    {
      "cell_type": "code",
      "source": [
        "# Step 1: Get CVR series\n",
        "cvr_series = df_cvr_lstm['y'].values.reshape(-1, 1)"
      ],
      "metadata": {
        "id": "0nUi2SB1b3WE"
      },
      "execution_count": null,
      "outputs": []
    },
    {
      "cell_type": "code",
      "source": [
        "# Step 2: Scale CVR to 0-1\n",
        "scaler = MinMaxScaler()\n",
        "scaled_cvr = scaler.fit_transform(cvr_series)"
      ],
      "metadata": {
        "id": "BoC9AW9kcGKL"
      },
      "execution_count": null,
      "outputs": []
    },
    {
      "cell_type": "code",
      "source": [
        "# Step 3: Prepare sequences (8 weeks → next 1)\n",
        "X, y = [], []\n",
        "sequence_length = 4  # Try with 4 weeks to predict next\n",
        "for i in range(len(scaled_cvr) - sequence_length):\n",
        "    X.append(scaled_cvr[i:i + sequence_length])\n",
        "    y.append(scaled_cvr[i + sequence_length])\n",
        "\n",
        "X = np.array(X)\n",
        "y = np.array(y)"
      ],
      "metadata": {
        "id": "YGpsWZ_4cIR_"
      },
      "execution_count": null,
      "outputs": []
    },
    {
      "cell_type": "code",
      "source": [
        "# Reshape input for LSTM: [samples, time steps, features]\n",
        "X = X.reshape((X.shape[0], X.shape[1], 1))"
      ],
      "metadata": {
        "id": "92zU2VIJcKQ7"
      },
      "execution_count": null,
      "outputs": []
    },
    {
      "cell_type": "code",
      "source": [
        "# Step 4: Define LSTM model\n",
        "model = Sequential()\n",
        "model.add(LSTM(50, activation='relu', input_shape=(X.shape[1], 1)))\n",
        "model.add(Dense(1))\n",
        "model.compile(optimizer='adam', loss='mse')"
      ],
      "metadata": {
        "colab": {
          "base_uri": "https://localhost:8080/"
        },
        "id": "E0LkMZpzcM6q",
        "outputId": "a3f3f973-39c0-4ff2-a008-f9bf70512778"
      },
      "execution_count": null,
      "outputs": [
        {
          "output_type": "stream",
          "name": "stderr",
          "text": [
            "/usr/local/lib/python3.11/dist-packages/keras/src/layers/rnn/rnn.py:200: UserWarning: Do not pass an `input_shape`/`input_dim` argument to a layer. When using Sequential models, prefer using an `Input(shape)` object as the first layer in the model instead.\n",
            "  super().__init__(**kwargs)\n"
          ]
        }
      ]
    },
    {
      "cell_type": "code",
      "source": [
        "# Step 5: Train the model\n",
        "model.fit(X, y, epochs=200, verbose=0)"
      ],
      "metadata": {
        "colab": {
          "base_uri": "https://localhost:8080/"
        },
        "id": "WtqAuUl1cPi0",
        "outputId": "0ffe5a03-dd72-48a8-c279-5ac717493e1b"
      },
      "execution_count": null,
      "outputs": [
        {
          "output_type": "execute_result",
          "data": {
            "text/plain": [
              "<keras.src.callbacks.history.History at 0x7895d890e250>"
            ]
          },
          "metadata": {},
          "execution_count": 21
        }
      ]
    },
    {
      "cell_type": "code",
      "source": [
        "# Step 6: Forecast future CVR (next 4 weeks)\n",
        "future_steps = 4\n",
        "last_seq = scaled_cvr[-sequence_length:].reshape(1, sequence_length, 1)\n",
        "predictions = []\n",
        "for _ in range(future_steps):\n",
        "    pred = model.predict(last_seq)[0][0]\n",
        "    predictions.append(pred)\n",
        "    last_seq = np.append(last_seq[:, 1:, :], [[[pred]]], axis=1)"
      ],
      "metadata": {
        "colab": {
          "base_uri": "https://localhost:8080/"
        },
        "id": "acMlPKUrcRzS",
        "outputId": "71a8240c-f4a3-4753-f58b-5e221072f93b"
      },
      "execution_count": null,
      "outputs": [
        {
          "output_type": "stream",
          "name": "stdout",
          "text": [
            "\u001b[1m1/1\u001b[0m \u001b[32m━━━━━━━━━━━━━━━━━━━━\u001b[0m\u001b[37m\u001b[0m \u001b[1m1s\u001b[0m 718ms/step\n",
            "\u001b[1m1/1\u001b[0m \u001b[32m━━━━━━━━━━━━━━━━━━━━\u001b[0m\u001b[37m\u001b[0m \u001b[1m0s\u001b[0m 352ms/step\n",
            "\u001b[1m1/1\u001b[0m \u001b[32m━━━━━━━━━━━━━━━━━━━━\u001b[0m\u001b[37m\u001b[0m \u001b[1m0s\u001b[0m 336ms/step\n",
            "\u001b[1m1/1\u001b[0m \u001b[32m━━━━━━━━━━━━━━━━━━━━\u001b[0m\u001b[37m\u001b[0m \u001b[1m0s\u001b[0m 296ms/step\n"
          ]
        }
      ]
    },
    {
      "cell_type": "code",
      "source": [
        "# Step 7: Inverse transform to get original CVR values\n",
        "predicted_cvr = scaler.inverse_transform(np.array(predictions).reshape(-1, 1))"
      ],
      "metadata": {
        "id": "J3Q_2jEndAz7"
      },
      "execution_count": null,
      "outputs": []
    },
    {
      "cell_type": "code",
      "source": [
        "# Step 8: Plot\n",
        "weeks_future = pd.date_range(start=df_cvr_lstm['ds'].iloc[-1] + pd.Timedelta(weeks=1), periods=future_steps, freq='W-MON')\n",
        "plt.plot(df_cvr_lstm['ds'], df_cvr_lstm['y'], marker='o', label='Actual CVR')\n",
        "plt.plot(weeks_future, predicted_cvr, marker='x', linestyle='--', color='red', label='LSTM Forecast')\n",
        "plt.title(\"LSTM Forecast – CVR\")\n",
        "plt.xlabel(\"Week\")\n",
        "plt.ylabel(\"CVR\")\n",
        "plt.grid(True)\n",
        "plt.legend()\n",
        "plt.tight_layout()\n",
        "plt.show()"
      ],
      "metadata": {
        "colab": {
          "base_uri": "https://localhost:8080/",
          "height": 487
        },
        "id": "q8yh7EWKdE3H",
        "outputId": "936f2bfe-4f56-4ee1-d7e4-30fe9953fd53"
      },
      "execution_count": null,
      "outputs": [
        {
          "output_type": "display_data",
          "data": {
            "text/plain": [
              "<Figure size 640x480 with 1 Axes>"
            ],
            "image/png": "[encoded data removed]"
          },
          "metadata": {}
        }
      ]
    },
    {
      "cell_type": "code",
      "source": [
        "# Step 9: Print predicted values\n",
        "for date, val in zip(weeks_future, predicted_cvr.flatten()):\n",
        "    print(f\"{date.date()} → Predicted CVR: {val:.4f}\")"
      ],
      "metadata": {
        "colab": {
          "base_uri": "https://localhost:8080/"
        },
        "id": "IQOO6swpdHKv",
        "outputId": "536980d9-ac67-49d6-ab66-968117c8b354"
      },
      "execution_count": null,
      "outputs": [
        {
          "output_type": "stream",
          "name": "stdout",
          "text": [
            "2021-03-08 → Predicted CVR: 0.3914\n",
            "2021-03-15 → Predicted CVR: 0.3887\n",
            "2021-03-22 → Predicted CVR: 0.3856\n",
            "2021-03-29 → Predicted CVR: 0.3836\n"
          ]
        }
      ]
    },
    {
      "cell_type": "markdown",
      "source": [
        "Testing"
      ],
      "metadata": {
        "id": "kiKYm7lPdmxb"
      }
    },
    {
      "cell_type": "code",
      "source": [
        "actual = [0.4055, 0.3468]           # real CVR values\n",
        "prophet_pred = [0.4121, 0.3795]     # Prophet predicted\n",
        "lstm_pred = [0.4083, 0.3842]        # LSTM predicted"
      ],
      "metadata": {
        "id": "SdUrQbvbdoHb"
      },
      "execution_count": null,
      "outputs": []
    },
    {
      "cell_type": "code",
      "source": [
        "from sklearn.metrics import mean_absolute_error, mean_squared_error\n",
        "import numpy as np"
      ],
      "metadata": {
        "id": "VR-fZbB6dqka"
      },
      "execution_count": null,
      "outputs": []
    },
    {
      "cell_type": "code",
      "source": [
        "# Prophet accuracy\n",
        "mae_prophet = mean_absolute_error(actual, prophet_pred)\n",
        "rmse_prophet = np.sqrt(mean_squared_error(actual, prophet_pred))"
      ],
      "metadata": {
        "id": "u1fxgnBpdsZ4"
      },
      "execution_count": null,
      "outputs": []
    },
    {
      "cell_type": "code",
      "source": [
        "# LSTM accuracy\n",
        "mae_lstm = mean_absolute_error(actual, lstm_pred)\n",
        "rmse_lstm = np.sqrt(mean_squared_error(actual, lstm_pred))\n",
        "\n",
        "print(f\"📈 Prophet → MAE: {mae_prophet:.4f}, RMSE: {rmse_prophet:.4f}\")\n",
        "print(f\"🧠 LSTM    → MAE: {mae_lstm:.4f}, RMSE: {rmse_lstm:.4f}\")"
      ],
      "metadata": {
        "colab": {
          "base_uri": "https://localhost:8080/"
        },
        "id": "-jnvsQyeduxi",
        "outputId": "a926e07e-f2eb-4171-eda7-d480cc3d5a8a"
      },
      "execution_count": null,
      "outputs": [
        {
          "output_type": "stream",
          "name": "stdout",
          "text": [
            "📈 Prophet → MAE: 0.0197, RMSE: 0.0236\n",
            "🧠 LSTM    → MAE: 0.0201, RMSE: 0.0265\n"
          ]
        }
      ]
    },
    {
      "cell_type": "code",
      "source": [],
      "metadata": {
        "id": "_glpwkcUdw-8"
      },
      "execution_count": null,
      "outputs": []
    }
  ]
}