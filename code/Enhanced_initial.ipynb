{
  "nbformat": 4,
  "nbformat_minor": 0,
  "metadata": {
    "colab": {
      "provenance": []
    },
    "kernelspec": {
      "name": "python3",
      "display_name": "Python 3"
    },
    "language_info": {
      "name": "python"
    }
  },
  "cells": [
    {
      "cell_type": "code",
      "execution_count": null,
      "metadata": {
        "id": "QvJet8jgDMYk"
      },
      "outputs": [],
      "source": [
        "# Step 1: Import Libraries\n",
        "import pandas as pd\n",
        "import numpy as np\n",
        "from sklearn.model_selection import train_test_split\n",
        "from sklearn.preprocessing import OneHotEncoder, StandardScaler\n",
        "from sklearn.compose import ColumnTransformer\n",
        "from sklearn.pipeline import Pipeline\n",
        "from sklearn.ensemble import RandomForestClassifier\n",
        "from sklearn.neural_network import MLPClassifier\n",
        "from xgboost import XGBClassifier\n",
        "from sklearn.metrics import classification_report, confusion_matrix, roc_auc_score\n",
        "from imblearn.over_sampling import SMOTE\n",
        "from imblearn.pipeline import Pipeline as ImbPipeline\n",
        "import matplotlib.pyplot as plt\n",
        "import seaborn as sns"
      ]
    },
    {
      "cell_type": "code",
      "source": [
        "# Step 2: Load Dataset\n",
        "df = pd.read_csv(\"enhanced_synthetic_discount_dataset.csv\")"
      ],
      "metadata": {
        "id": "fM9cHN48DUbG"
      },
      "execution_count": null,
      "outputs": []
    },
    {
      "cell_type": "code",
      "source": [
        "# Step 3: Derive frequency features BEFORE dropping IDs\n",
        "df['user_activity_count'] = df['user_pseudo_id'].map(df['user_pseudo_id'].value_counts())\n",
        "df['item_popularity'] = df['item_id'].map(df['item_id'].value_counts())"
      ],
      "metadata": {
        "id": "U118x62ZDYHY"
      },
      "execution_count": null,
      "outputs": []
    },
    {
      "cell_type": "code",
      "source": [
        "# Step 4: Drop Unused Columns\n",
        "df.drop(columns=[\n",
        "    'user_pseudo_id', 'item_id', 'item_name', 'event_name',\n",
        "    'discounted_price', 'event_date', 'region', 'city', 'country'\n",
        "], inplace=True)"
      ],
      "metadata": {
        "id": "MFAFzN-nDa_n"
      },
      "execution_count": null,
      "outputs": []
    },
    {
      "cell_type": "code",
      "source": [
        "# Step 5: Drop NA rows for SMOTE compatibility\n",
        "df = df[df['converted'].isin([0, 1])].copy()"
      ],
      "metadata": {
        "id": "UDfOAPrWDdct"
      },
      "execution_count": null,
      "outputs": []
    },
    {
      "cell_type": "code",
      "source": [
        "# Step 6: Define Features and Target\n",
        "target = 'converted'\n",
        "features = [\n",
        "    'original_price', 'discount_percent', 'item_category', 'campaign_type', 'channel',\n",
        "    'hour_of_day', 'day_of_week', 'days_since_first_event',\n",
        "    'user_product_view_count', 'user_product_purchase_count',\n",
        "    'user_product_interaction_count', 'user_activity_count', 'item_popularity'\n",
        "]"
      ],
      "metadata": {
        "id": "yabuWnrbDiPi"
      },
      "execution_count": null,
      "outputs": []
    },
    {
      "cell_type": "code",
      "source": [
        "X = df[features]\n",
        "y = df[target]"
      ],
      "metadata": {
        "id": "GrfgIJrXDko0"
      },
      "execution_count": null,
      "outputs": []
    },
    {
      "cell_type": "code",
      "source": [
        "# Step 7: Identify Column Types\n",
        "categorical_cols = ['item_category', 'campaign_type', 'channel', 'day_of_week']\n",
        "numerical_cols = [col for col in features if col not in categorical_cols]"
      ],
      "metadata": {
        "id": "aDKJNjtgDm7c"
      },
      "execution_count": null,
      "outputs": []
    },
    {
      "cell_type": "code",
      "source": [
        "# Step 8: Preprocessing Pipeline\n",
        "preprocessor = ColumnTransformer(transformers=[\n",
        "    ('num', StandardScaler(), numerical_cols),\n",
        "    ('cat', OneHotEncoder(handle_unknown='ignore'), categorical_cols)\n",
        "])"
      ],
      "metadata": {
        "id": "zARXCHebDpbi"
      },
      "execution_count": null,
      "outputs": []
    },
    {
      "cell_type": "code",
      "source": [
        "# Step 9: Model Definitions\n",
        "models = {\n",
        "    'Random Forest': RandomForestClassifier(class_weight='balanced', random_state=42),\n",
        "    'XGBoost': XGBClassifier(use_label_encoder=False, eval_metric='logloss',\n",
        "                             scale_pos_weight=(y == 0).sum() / (y == 1).sum(), random_state=42),\n",
        "    'Neural Network': MLPClassifier(hidden_layer_sizes=(64, 32), max_iter=300, random_state=42)\n",
        "}"
      ],
      "metadata": {
        "id": "Yfh7EKTQDryO"
      },
      "execution_count": null,
      "outputs": []
    },
    {
      "cell_type": "code",
      "source": [
        "# Step 10: Stratified Train-Test Split\n",
        "X_train, X_test, y_train, y_test = train_test_split(X, y, stratify=y, test_size=0.2, random_state=42)"
      ],
      "metadata": {
        "id": "wN8xyzPJDuV2"
      },
      "execution_count": null,
      "outputs": []
    },
    {
      "cell_type": "code",
      "source": [
        "# Step 11: Train, Predict, and Evaluate\n",
        "results = {}\n",
        "\n",
        "for name, model in models.items():\n",
        "    print(f\"\\n🔍 Training {name}...\")\n",
        "    pipeline = ImbPipeline(steps=[\n",
        "        ('preprocess', preprocessor),\n",
        "        ('smote', SMOTE(random_state=42)),\n",
        "        ('classifier', model)\n",
        "    ])\n",
        "\n",
        "    pipeline.fit(X_train, y_train)\n",
        "    y_pred = pipeline.predict(X_test)\n",
        "    y_prob = pipeline.predict_proba(X_test)[:, 1]\n",
        "\n",
        "    print(f\"📊 Classification Report for {name}\")\n",
        "    print(classification_report(y_test, y_pred))\n",
        "\n",
        "    print(f\"🧮 Confusion Matrix for {name}\")\n",
        "    sns.heatmap(confusion_matrix(y_test, y_pred), annot=True, fmt='d', cmap='Blues')\n",
        "    plt.title(f\"{name} - Confusion Matrix\")\n",
        "    plt.xlabel(\"Predicted\")\n",
        "    plt.ylabel(\"Actual\")\n",
        "    plt.show()\n",
        "\n",
        "    print(f\"🔢 ROC-AUC Score: {roc_auc_score(y_test, y_prob):.4f}\")"
      ],
      "metadata": {
        "colab": {
          "base_uri": "https://localhost:8080/",
          "height": 1000
        },
        "id": "fIMajBE2DxPQ",
        "outputId": "12262335-7391-49db-d82f-4add5154a19b"
      },
      "execution_count": null,
      "outputs": [
        {
          "output_type": "stream",
          "name": "stdout",
          "text": [
            "\n",
            "🔍 Training Random Forest...\n",
            "📊 Classification Report for Random Forest\n",
            "              precision    recall  f1-score   support\n",
            "\n",
            "           0       1.00      1.00      1.00      9198\n",
            "           1       0.99      1.00      0.99       802\n",
            "\n",
            "    accuracy                           1.00     10000\n",
            "   macro avg       0.99      1.00      1.00     10000\n",
            "weighted avg       1.00      1.00      1.00     10000\n",
            "\n",
            "🧮 Confusion Matrix for Random Forest\n"
          ]
        },
        {
          "output_type": "display_data",
          "data": {
            "text/plain": [
              "<Figure size 640x480 with 2 Axes>"
            ],
            "image/png": "[encoded data removed]"
          },
          "metadata": {}
        },
        {
          "output_type": "stream",
          "name": "stdout",
          "text": [
            "🔢 ROC-AUC Score: 1.0000\n",
            "\n",
            "🔍 Training XGBoost...\n"
          ]
        },
        {
          "output_type": "stream",
          "name": "stderr",
          "text": [
            "/usr/local/lib/python3.11/dist-packages/xgboost/core.py:158: UserWarning: [11:21:27] WARNING: /workspace/src/learner.cc:740: \n",
            "Parameters: { \"use_label_encoder\" } are not used.\n",
            "\n",
            "  warnings.warn(smsg, UserWarning)\n"
          ]
        },
        {
          "output_type": "stream",
          "name": "stdout",
          "text": [
            "📊 Classification Report for XGBoost\n",
            "              precision    recall  f1-score   support\n",
            "\n",
            "           0       1.00      1.00      1.00      9198\n",
            "           1       0.99      1.00      0.99       802\n",
            "\n",
            "    accuracy                           1.00     10000\n",
            "   macro avg       0.99      1.00      1.00     10000\n",
            "weighted avg       1.00      1.00      1.00     10000\n",
            "\n",
            "🧮 Confusion Matrix for XGBoost\n"
          ]
        },
        {
          "output_type": "display_data",
          "data": {
            "text/plain": [
              "<Figure size 640x480 with 2 Axes>"
            ],
            "image/png": "[encoded data removed]"
          },
          "metadata": {}
        },
        {
          "output_type": "stream",
          "name": "stdout",
          "text": [
            "🔢 ROC-AUC Score: 1.0000\n",
            "\n",
            "🔍 Training Neural Network...\n",
            "📊 Classification Report for Neural Network\n",
            "              precision    recall  f1-score   support\n",
            "\n",
            "           0       1.00      1.00      1.00      9198\n",
            "           1       0.99      0.99      0.99       802\n",
            "\n",
            "    accuracy                           1.00     10000\n",
            "   macro avg       1.00      0.99      1.00     10000\n",
            "weighted avg       1.00      1.00      1.00     10000\n",
            "\n",
            "🧮 Confusion Matrix for Neural Network\n"
          ]
        },
        {
          "output_type": "display_data",
          "data": {
            "text/plain": [
              "<Figure size 640x480 with 2 Axes>"
            ],
            "image/png": "[encoded data removed]"
          },
          "metadata": {}
        },
        {
          "output_type": "stream",
          "name": "stdout",
          "text": [
            "🔢 ROC-AUC Score: 1.0000\n"
          ]
        }
      ]
    },
    {
      "cell_type": "code",
      "source": [
        "# Remove suspect features\n",
        "suspect_features = [\n",
        "    'user_product_purchase_count',\n",
        "    'user_product_interaction_count',\n",
        "    'user_product_view_count'\n",
        "]"
      ],
      "metadata": {
        "id": "d67vIJrBD2P5"
      },
      "execution_count": null,
      "outputs": []
    },
    {
      "cell_type": "code",
      "source": [
        "# Define new feature set\n",
        "reduced_features = [f for f in features if f not in suspect_features]"
      ],
      "metadata": {
        "id": "3ooNvvAdF7Iq"
      },
      "execution_count": null,
      "outputs": []
    },
    {
      "cell_type": "code",
      "source": [
        "X_reduced = df[reduced_features]\n",
        "y = df[target]"
      ],
      "metadata": {
        "id": "1zOoTfz0Gr3A"
      },
      "execution_count": null,
      "outputs": []
    },
    {
      "cell_type": "code",
      "source": [
        "# Train-test split\n",
        "X_train, X_test, y_train, y_test = train_test_split(X_reduced, y, stratify=y, test_size=0.2, random_state=42)"
      ],
      "metadata": {
        "id": "Swo6N1AKGuZm"
      },
      "execution_count": null,
      "outputs": []
    },
    {
      "cell_type": "code",
      "source": [
        "# Reuse same preprocessing pipeline\n",
        "categorical_cols_reduced = [col for col in categorical_cols if col in reduced_features]\n",
        "numerical_cols_reduced = [col for col in reduced_features if col not in categorical_cols_reduced]"
      ],
      "metadata": {
        "id": "j3GR9CilGw-I"
      },
      "execution_count": null,
      "outputs": []
    },
    {
      "cell_type": "code",
      "source": [
        "preprocessor_reduced = ColumnTransformer(transformers=[\n",
        "    ('num', StandardScaler(), numerical_cols_reduced),\n",
        "    ('cat', OneHotEncoder(handle_unknown='ignore'), categorical_cols_reduced)\n",
        "])"
      ],
      "metadata": {
        "id": "ZhKEdGbCGznC"
      },
      "execution_count": null,
      "outputs": []
    },
    {
      "cell_type": "code",
      "source": [
        "# Choose one model for quick ablation test (e.g., Random Forest)\n",
        "from imblearn.pipeline import Pipeline as ImbPipeline\n",
        "from sklearn.ensemble import RandomForestClassifier\n",
        "\n",
        "pipeline = ImbPipeline(steps=[\n",
        "    ('preprocess', preprocessor_reduced),\n",
        "    ('smote', SMOTE(random_state=42)),\n",
        "    ('classifier', RandomForestClassifier(class_weight='balanced', random_state=42))\n",
        "])"
      ],
      "metadata": {
        "id": "OjObDqE5G1mc"
      },
      "execution_count": null,
      "outputs": []
    },
    {
      "cell_type": "code",
      "source": [
        "pipeline.fit(X_train, y_train)\n",
        "y_pred = pipeline.predict(X_test)\n",
        "y_prob = pipeline.predict_proba(X_test)[:, 1]"
      ],
      "metadata": {
        "id": "QqStUwdqHCei"
      },
      "execution_count": null,
      "outputs": []
    },
    {
      "cell_type": "code",
      "source": [
        "# Print evaluation\n",
        "print(\"📊 Classification Report (Reduced Features - No Behavior Counts)\")\n",
        "print(classification_report(y_test, y_pred))\n",
        "print(f\"🔢 ROC-AUC Score: {roc_auc_score(y_test, y_prob):.4f}\")"
      ],
      "metadata": {
        "colab": {
          "base_uri": "https://localhost:8080/"
        },
        "id": "YRxKh_kQHEVQ",
        "outputId": "3a8027dd-84f4-47f8-cda7-d557aac5883b"
      },
      "execution_count": null,
      "outputs": [
        {
          "output_type": "stream",
          "name": "stdout",
          "text": [
            "📊 Classification Report (Reduced Features - No Behavior Counts)\n",
            "              precision    recall  f1-score   support\n",
            "\n",
            "           0       0.92      0.99      0.96      9198\n",
            "           1       0.21      0.02      0.04       802\n",
            "\n",
            "    accuracy                           0.92     10000\n",
            "   macro avg       0.57      0.51      0.50     10000\n",
            "weighted avg       0.86      0.92      0.88     10000\n",
            "\n",
            "🔢 ROC-AUC Score: 0.6473\n"
          ]
        }
      ]
    },
    {
      "cell_type": "code",
      "source": [],
      "metadata": {
        "id": "CN9Pqch4HMIw"
      },
      "execution_count": null,
      "outputs": []
    }
  ]
}