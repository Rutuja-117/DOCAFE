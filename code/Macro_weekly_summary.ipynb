{
  "nbformat": 4,
  "nbformat_minor": 0,
  "metadata": {
    "colab": {
      "provenance": []
    },
    "kernelspec": {
      "name": "python3",
      "display_name": "Python 3"
    },
    "language_info": {
      "name": "python"
    }
  },
  "cells": [
    {
      "cell_type": "code",
      "execution_count": null,
      "metadata": {
        "id": "4c9ZhCreVLrT"
      },
      "outputs": [],
      "source": [
        "import pandas as pd"
      ]
    },
    {
      "cell_type": "code",
      "source": [
        "# Step 1: Load the original dataset and the micro model predictions\n",
        "original_df = pd.read_csv(\"enhanced_synthetic_discount_dataset.csv\")\n",
        "predicted_df = pd.read_csv(\"predicted_conversions.csv\")"
      ],
      "metadata": {
        "id": "Qb6z4pXZVmMj"
      },
      "execution_count": null,
      "outputs": []
    },
    {
      "cell_type": "code",
      "source": [
        "# Step 2: Convert `event_date` to datetime format\n",
        "original_df['event_date'] = pd.to_datetime(original_df['event_date'].astype(str), format='%Y-%m-%d')"
      ],
      "metadata": {
        "id": "x30frr6PVrZE"
      },
      "execution_count": null,
      "outputs": []
    },
    {
      "cell_type": "code",
      "source": [
        "# Step 3: Keep only needed columns for merging\n",
        "original_dates = original_df[['user_pseudo_id', 'item_id', 'event_date']]"
      ],
      "metadata": {
        "id": "EU772c9yVyvg"
      },
      "execution_count": null,
      "outputs": []
    },
    {
      "cell_type": "code",
      "source": [
        "# Step 4: Merge event_date into predicted data\n",
        "predicted_df = predicted_df.merge(original_dates, on=['user_pseudo_id', 'item_id'], how='left')"
      ],
      "metadata": {
        "id": "3hwJSbKRWFcH"
      },
      "execution_count": null,
      "outputs": []
    },
    {
      "cell_type": "code",
      "source": [
        "# Step 5: Extract week from event_date (Monday-starting)\n",
        "predicted_df['week'] = predicted_df['event_date'].dt.to_period('W').astype(str)"
      ],
      "metadata": {
        "id": "Fu6yOWe6WIK4"
      },
      "execution_count": null,
      "outputs": []
    },
    {
      "cell_type": "code",
      "source": [
        "# (Optional) Preview the result\n",
        "print(predicted_df[['user_pseudo_id', 'item_id', 'event_date', 'week']].head())"
      ],
      "metadata": {
        "colab": {
          "base_uri": "https://localhost:8080/"
        },
        "id": "NTx27vSYWKNY",
        "outputId": "ef5eeeb2-c262-4c7c-97ab-dfe6b505b0d9"
      },
      "execution_count": null,
      "outputs": [
        {
          "output_type": "stream",
          "name": "stdout",
          "text": [
            "  user_pseudo_id   item_id event_date                   week\n",
            "0      user_1635  item_517 2021-01-13  2021-01-11/2021-01-17\n",
            "1       user_912  item_509 2021-02-25  2021-02-22/2021-02-28\n",
            "2       user_568  item_943 2021-01-18  2021-01-18/2021-01-24\n",
            "3       user_947  item_896 2021-02-25  2021-02-22/2021-02-28\n",
            "4       user_954  item_836 2021-01-17  2021-01-11/2021-01-17\n"
          ]
        }
      ]
    },
    {
      "cell_type": "markdown",
      "source": [
        "Code: Weekly Discount-Bucket Aggregation"
      ],
      "metadata": {
        "id": "a1Dr78RkWxaF"
      }
    },
    {
      "cell_type": "code",
      "source": [
        "# Step 1: Create discount buckets\n",
        "bins = [0, 10, 20, 30, 40, 50, 60, 70, 100]\n",
        "labels = ['0–10%', '10–20%', '20–30%', '30–40%', '40–50%', '50–60%', '60–70%', '70%+']\n",
        "predicted_df['discount_bucket'] = pd.cut(predicted_df['discount_percent'], bins=bins, labels=labels, right=False)"
      ],
      "metadata": {
        "id": "njpa1SKnWOgZ"
      },
      "execution_count": null,
      "outputs": []
    },
    {
      "cell_type": "code",
      "source": [
        "# Step 2: Calculate discounted price, revenue, and cost\n",
        "predicted_df['discounted_price'] = predicted_df['original_price'] * (1 - predicted_df['discount_percent'] / 100)\n",
        "predicted_df['expected_conversion'] = predicted_df['conversion_probability']\n",
        "predicted_df['expected_revenue'] = predicted_df['expected_conversion'] * predicted_df['discounted_price']\n",
        "predicted_df['expected_discount_cost'] = predicted_df['expected_conversion'] * (predicted_df['original_price'] - predicted_df['discounted_price'])"
      ],
      "metadata": {
        "id": "l8eGDF5hW1C5"
      },
      "execution_count": null,
      "outputs": []
    },
    {
      "cell_type": "code",
      "source": [
        "# Step 3: Group by week and discount bucket\n",
        "weekly_agg = predicted_df.groupby(['week', 'discount_bucket']).agg(\n",
        "    expected_conversions=('expected_conversion', 'sum'),\n",
        "    expected_revenue=('expected_revenue', 'sum'),\n",
        "    expected_discount_cost=('expected_discount_cost', 'sum'),\n",
        "    users_covered=('user_pseudo_id', 'nunique')\n",
        ").reset_index()"
      ],
      "metadata": {
        "colab": {
          "base_uri": "https://localhost:8080/"
        },
        "id": "RiPSbzLlW4DD",
        "outputId": "64f41db1-fe06-4286-f609-dc0509328a21"
      },
      "execution_count": null,
      "outputs": [
        {
          "output_type": "stream",
          "name": "stderr",
          "text": [
            "/tmp/ipython-input-11-3875092722.py:2: FutureWarning: The default of observed=False is deprecated and will be changed to True in a future version of pandas. Pass observed=False to retain current behavior or observed=True to adopt the future default and silence this warning.\n",
            "  weekly_agg = predicted_df.groupby(['week', 'discount_bucket']).agg(\n"
          ]
        }
      ]
    },
    {
      "cell_type": "code",
      "source": [
        "# Step 4: Add CVR and Margin columns\n",
        "weekly_agg['CVR'] = weekly_agg['expected_conversions'] / weekly_agg['users_covered']\n",
        "weekly_agg['Margin'] = weekly_agg['expected_revenue'] - weekly_agg['expected_discount_cost']"
      ],
      "metadata": {
        "id": "zsS3dfS-W6cp"
      },
      "execution_count": null,
      "outputs": []
    },
    {
      "cell_type": "code",
      "source": [
        "# Step 5: Save to file\n",
        "weekly_agg.to_csv(\"macro_weekly_summary.csv\", index=False)\n",
        "print(\"✅ Weekly macro summary saved as 'macro_weekly_summary.csv'\")"
      ],
      "metadata": {
        "colab": {
          "base_uri": "https://localhost:8080/"
        },
        "id": "QAtdq-paW9Au",
        "outputId": "0c8d7a16-c88b-4626-bfbb-d298e692579e"
      },
      "execution_count": null,
      "outputs": [
        {
          "output_type": "stream",
          "name": "stdout",
          "text": [
            "✅ Weekly macro summary saved as 'macro_weekly_summary.csv'\n"
          ]
        }
      ]
    },
    {
      "cell_type": "code",
      "source": [],
      "metadata": {
        "id": "POrxeaNPW_ez"
      },
      "execution_count": null,
      "outputs": []
    }
  ]
}