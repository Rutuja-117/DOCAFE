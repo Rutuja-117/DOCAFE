{
  "nbformat": 4,
  "nbformat_minor": 0,
  "metadata": {
    "colab": {
      "provenance": []
    },
    "kernelspec": {
      "name": "python3",
      "display_name": "Python 3"
    },
    "language_info": {
      "name": "python"
    }
  },
  "cells": [
    {
      "cell_type": "code",
      "execution_count": null,
      "metadata": {
        "id": "Ch5c6VWYkT6N"
      },
      "outputs": [],
      "source": [
        "import pandas as pd"
      ]
    },
    {
      "cell_type": "code",
      "source": [
        "# Load weekly summary\n",
        "df = pd.read_csv(\"macro_weekly_summary.csv\")"
      ],
      "metadata": {
        "id": "hf2Yn5YDkXUn"
      },
      "execution_count": null,
      "outputs": []
    },
    {
      "cell_type": "code",
      "source": [
        "# Step 1: Remove rows with zero users\n",
        "df = df[df['users_covered'] > 0]"
      ],
      "metadata": {
        "id": "gEVdC2cBkepp"
      },
      "execution_count": null,
      "outputs": []
    },
    {
      "cell_type": "code",
      "source": [
        "# Step 2: Aggregate total margin per week\n",
        "margin_df = df.groupby('week').agg({'Margin': 'sum'}).reset_index()"
      ],
      "metadata": {
        "id": "ktu9iXWCknXC"
      },
      "execution_count": null,
      "outputs": []
    },
    {
      "cell_type": "code",
      "source": [
        "# Step 3: Prepare for Prophet\n",
        "df_margin_prophet = margin_df.rename(columns={'week': 'ds', 'Margin': 'y'})\n",
        "df_margin_prophet['ds'] = pd.to_datetime(df_margin_prophet['ds'].str.split('/').str[0])"
      ],
      "metadata": {
        "id": "_oSEou5LkpU3"
      },
      "execution_count": null,
      "outputs": []
    },
    {
      "cell_type": "code",
      "source": [
        "# Step 4: Prepare for LSTM\n",
        "df_margin_lstm = df_margin_prophet.copy()"
      ],
      "metadata": {
        "id": "4_kuxCA6krlX"
      },
      "execution_count": null,
      "outputs": []
    },
    {
      "cell_type": "code",
      "source": [
        "# Preview\n",
        "print(\"✅ Prophet-ready Margin data:\")\n",
        "print(df_margin_prophet)"
      ],
      "metadata": {
        "colab": {
          "base_uri": "https://localhost:8080/"
        },
        "id": "sA37uj0tktlP",
        "outputId": "10b3e397-c01d-48e6-892e-568254e1bf3a"
      },
      "execution_count": null,
      "outputs": [
        {
          "output_type": "stream",
          "name": "stdout",
          "text": [
            "✅ Prophet-ready Margin data:\n",
            "          ds             y\n",
            "0 2020-12-28  21086.337693\n",
            "1 2021-01-04  52421.210479\n",
            "2 2021-01-11  60402.464113\n",
            "3 2021-01-18  57320.067696\n",
            "4 2021-01-25  54720.064012\n",
            "5 2021-02-01  55028.101104\n",
            "6 2021-02-08  50125.361322\n",
            "7 2021-02-15  52375.708858\n",
            "8 2021-02-22  55116.434773\n",
            "9 2021-03-01   4498.903223\n"
          ]
        }
      ]
    },
    {
      "cell_type": "code",
      "source": [
        "print(\"\\n✅ LSTM-ready Margin series:\")\n",
        "print(df_margin_lstm['y'].values)"
      ],
      "metadata": {
        "colab": {
          "base_uri": "https://localhost:8080/"
        },
        "id": "zWlY71dJkvUZ",
        "outputId": "ddea95ef-69c3-479c-efb1-f42771bfa723"
      },
      "execution_count": null,
      "outputs": [
        {
          "output_type": "stream",
          "name": "stdout",
          "text": [
            "\n",
            "✅ LSTM-ready Margin series:\n",
            "[21086.33769308 52421.21047894 60402.46411336 57320.06769558\n",
            " 54720.06401201 55028.10110423 50125.36132216 52375.70885769\n",
            " 55116.43477332  4498.90322283]\n"
          ]
        }
      ]
    },
    {
      "cell_type": "code",
      "source": [
        "import numpy as np\n",
        "from sklearn.metrics import mean_absolute_error, mean_squared_error\n",
        "from prophet import Prophet\n",
        "from tensorflow.keras.models import Sequential\n",
        "from tensorflow.keras.layers import LSTM, Dense\n",
        "from sklearn.preprocessing import MinMaxScaler\n",
        "import matplotlib.pyplot as plt"
      ],
      "metadata": {
        "id": "CPLVKRhjkx6_"
      },
      "execution_count": null,
      "outputs": []
    },
    {
      "cell_type": "code",
      "source": [
        "### Step 1: Prepare data\n",
        "train_prophet = df_margin_lstm.iloc[:8].copy()\n",
        "test_prophet = df_margin_lstm.iloc[8:].copy()\n",
        "train_prophet.columns = ['ds', 'y']\n",
        "test_prophet.columns = ['ds', 'y']"
      ],
      "metadata": {
        "id": "42cMh9EFlB6Q"
      },
      "execution_count": null,
      "outputs": []
    },
    {
      "cell_type": "code",
      "source": [
        "# Prophet model\n",
        "prophet_model = Prophet()\n",
        "prophet_model.fit(train_prophet)\n",
        "future = prophet_model.make_future_dataframe(periods=2, freq='W-MON')\n",
        "forecast = prophet_model.predict(future)\n",
        "pred_prophet = forecast[['ds', 'yhat']].iloc[-2:]['yhat'].values\n",
        "actual_margin = test_prophet['y'].values"
      ],
      "metadata": {
        "colab": {
          "base_uri": "https://localhost:8080/"
        },
        "id": "wZ45O-XplE4O",
        "outputId": "a0ef9f5e-1436-4110-881d-d8d9ee131b10"
      },
      "execution_count": null,
      "outputs": [
        {
          "output_type": "stream",
          "name": "stderr",
          "text": [
            "INFO:prophet:Disabling yearly seasonality. Run prophet with yearly_seasonality=True to override this.\n",
            "INFO:prophet:Disabling weekly seasonality. Run prophet with weekly_seasonality=True to override this.\n",
            "INFO:prophet:Disabling daily seasonality. Run prophet with daily_seasonality=True to override this.\n",
            "INFO:prophet:n_changepoints greater than number of observations. Using 5.\n",
            "DEBUG:cmdstanpy:input tempfile: /tmp/tmp517r2s19/ell821ew.json\n",
            "DEBUG:cmdstanpy:input tempfile: /tmp/tmp517r2s19/kmg74gar.json\n",
            "DEBUG:cmdstanpy:idx 0\n",
            "DEBUG:cmdstanpy:running CmdStan, num_threads: None\n",
            "DEBUG:cmdstanpy:CmdStan args: ['/usr/local/lib/python3.11/dist-packages/prophet/stan_model/prophet_model.bin', 'random', 'seed=92785', 'data', 'file=/tmp/tmp517r2s19/ell821ew.json', 'init=/tmp/tmp517r2s19/kmg74gar.json', 'output', 'file=/tmp/tmp517r2s19/prophet_modelu8l9wwlt/prophet_model-20250620182303.csv', 'method=optimize', 'algorithm=newton', 'iter=10000']\n",
            "18:23:03 - cmdstanpy - INFO - Chain [1] start processing\n",
            "INFO:cmdstanpy:Chain [1] start processing\n",
            "18:23:03 - cmdstanpy - INFO - Chain [1] done processing\n",
            "INFO:cmdstanpy:Chain [1] done processing\n"
          ]
        }
      ]
    },
    {
      "cell_type": "code",
      "source": [
        "# LSTM setup\n",
        "margin_series = df_margin_lstm['y'].values.reshape(-1, 1)\n",
        "scaler = MinMaxScaler()\n",
        "scaled_margin = scaler.fit_transform(margin_series)"
      ],
      "metadata": {
        "id": "LrhbdAVClHIb"
      },
      "execution_count": null,
      "outputs": []
    },
    {
      "cell_type": "code",
      "source": [
        "# Prepare sequences\n",
        "X, y = [], []\n",
        "seq_len = 4\n",
        "for i in range(0, 8 - seq_len):\n",
        "    X.append(scaled_margin[i:i + seq_len])\n",
        "    y.append(scaled_margin[i + seq_len])\n",
        "X = np.array(X)\n",
        "y = np.array(y)\n",
        "X = X.reshape((X.shape[0], X.shape[1], 1))"
      ],
      "metadata": {
        "id": "2UIvZMYSlJ2e"
      },
      "execution_count": null,
      "outputs": []
    },
    {
      "cell_type": "code",
      "source": [
        "# Train LSTM\n",
        "model = Sequential()\n",
        "model.add(LSTM(50, activation='relu', input_shape=(seq_len, 1)))\n",
        "model.add(Dense(1))\n",
        "model.compile(optimizer='adam', loss='mse')\n",
        "model.fit(X, y, epochs=200, verbose=0)"
      ],
      "metadata": {
        "colab": {
          "base_uri": "https://localhost:8080/"
        },
        "id": "MrvjOQlElM8H",
        "outputId": "53cb5e34-fcf4-4281-cdce-55813fbb6276"
      },
      "execution_count": null,
      "outputs": [
        {
          "output_type": "stream",
          "name": "stderr",
          "text": [
            "/usr/local/lib/python3.11/dist-packages/keras/src/layers/rnn/rnn.py:200: UserWarning: Do not pass an `input_shape`/`input_dim` argument to a layer. When using Sequential models, prefer using an `Input(shape)` object as the first layer in the model instead.\n",
            "  super().__init__(**kwargs)\n"
          ]
        },
        {
          "output_type": "execute_result",
          "data": {
            "text/plain": [
              "<keras.src.callbacks.history.History at 0x7e7547913150>"
            ]
          },
          "metadata": {},
          "execution_count": 14
        }
      ]
    },
    {
      "cell_type": "code",
      "source": [
        "# Forecast next 2 weeks\n",
        "last_seq = scaled_margin[8 - seq_len:8].reshape(1, seq_len, 1)\n",
        "lstm_preds = []\n",
        "for _ in range(2):\n",
        "    pred = model.predict(last_seq)[0][0]\n",
        "    lstm_preds.append(pred)\n",
        "    last_seq = np.append(last_seq[:, 1:, :], [[[pred]]], axis=1)\n",
        "pred_lstm = scaler.inverse_transform(np.array(lstm_preds).reshape(-1, 1)).flatten()"
      ],
      "metadata": {
        "colab": {
          "base_uri": "https://localhost:8080/"
        },
        "id": "Nt4Cfp0BlPPN",
        "outputId": "e2e69a3c-aee8-43e6-a78a-a47227e186c0"
      },
      "execution_count": null,
      "outputs": [
        {
          "output_type": "stream",
          "name": "stdout",
          "text": [
            "\u001b[1m1/1\u001b[0m \u001b[32m━━━━━━━━━━━━━━━━━━━━\u001b[0m\u001b[37m\u001b[0m \u001b[1m0s\u001b[0m 197ms/step\n",
            "\u001b[1m1/1\u001b[0m \u001b[32m━━━━━━━━━━━━━━━━━━━━\u001b[0m\u001b[37m\u001b[0m \u001b[1m0s\u001b[0m 41ms/step\n"
          ]
        }
      ]
    },
    {
      "cell_type": "code",
      "source": [
        "### Step 2: Compare & Evaluate\n",
        "\n",
        "print(\"📊 Actual Margin:\", actual_margin)\n",
        "print(\"📈 Prophet Forecast:\", pred_prophet)\n",
        "print(\"🧠 LSTM Forecast:\", pred_lstm)"
      ],
      "metadata": {
        "colab": {
          "base_uri": "https://localhost:8080/"
        },
        "id": "RWUZQE11lblS",
        "outputId": "e59f591a-71cf-40e2-a55a-ce80fafa1625"
      },
      "execution_count": null,
      "outputs": [
        {
          "output_type": "stream",
          "name": "stdout",
          "text": [
            "📊 Actual Margin: [55116.43477332  4498.90322283]\n",
            "📈 Prophet Forecast: [60546.5411704  62795.76497529]\n",
            "🧠 LSTM Forecast: [51992.383 51411.68 ]\n"
          ]
        }
      ]
    },
    {
      "cell_type": "code",
      "source": [
        "# Step 3: Evaluation\n",
        "mae_prophet = mean_absolute_error(actual_margin, pred_prophet)\n",
        "rmse_prophet = np.sqrt(mean_squared_error(actual_margin, pred_prophet))\n",
        "\n",
        "mae_lstm = mean_absolute_error(actual_margin, pred_lstm)\n",
        "rmse_lstm = np.sqrt(mean_squared_error(actual_margin, pred_lstm))\n",
        "\n",
        "print(f\"\\n✅ Prophet → MAE: {mae_prophet:.2f}, RMSE: {rmse_prophet:.2f}\")\n",
        "print(f\"✅ LSTM    → MAE: {mae_lstm:.2f}, RMSE: {rmse_lstm:.2f}\")"
      ],
      "metadata": {
        "colab": {
          "base_uri": "https://localhost:8080/"
        },
        "id": "QIhNVGvAles2",
        "outputId": "3ba5ec47-5c89-4015-b546-6bb59974e00f"
      },
      "execution_count": null,
      "outputs": [
        {
          "output_type": "stream",
          "name": "stdout",
          "text": [
            "\n",
            "✅ Prophet → MAE: 31863.48, RMSE: 41400.54\n",
            "✅ LSTM    → MAE: 25018.41, RMSE: 33245.81\n"
          ]
        }
      ]
    },
    {
      "cell_type": "code",
      "source": [],
      "metadata": {
        "id": "UlTconmDljJs"
      },
      "execution_count": null,
      "outputs": []
    }
  ]
}