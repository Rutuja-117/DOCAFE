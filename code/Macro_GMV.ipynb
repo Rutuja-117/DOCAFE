{
  "nbformat": 4,
  "nbformat_minor": 0,
  "metadata": {
    "colab": {
      "provenance": []
    },
    "kernelspec": {
      "name": "python3",
      "display_name": "Python 3"
    },
    "language_info": {
      "name": "python"
    }
  },
  "cells": [
    {
      "cell_type": "code",
      "execution_count": null,
      "metadata": {
        "id": "uKC2kfb4ecrk"
      },
      "outputs": [],
      "source": [
        "import pandas as pd"
      ]
    },
    {
      "cell_type": "code",
      "source": [
        "# Load macro weekly summary\n",
        "df = pd.read_csv(\"macro_weekly_summary.csv\")"
      ],
      "metadata": {
        "id": "gtAKx1k0ejrN"
      },
      "execution_count": null,
      "outputs": []
    },
    {
      "cell_type": "code",
      "source": [
        "# Step 1: Filter valid weeks\n",
        "df = df[df['users_covered'] > 0]"
      ],
      "metadata": {
        "id": "XEz7ayVtfGHf"
      },
      "execution_count": null,
      "outputs": []
    },
    {
      "cell_type": "code",
      "source": [
        "# Step 2: Aggregate total expected revenue (GMV) per week\n",
        "gmv_df = df.groupby('week').agg({'expected_revenue': 'sum'}).reset_index()"
      ],
      "metadata": {
        "id": "0wujaiRlfIB-"
      },
      "execution_count": null,
      "outputs": []
    },
    {
      "cell_type": "code",
      "source": [
        "# Step 3: Rename for Prophet\n",
        "df_gmv_prophet = gmv_df.rename(columns={'week': 'ds', 'expected_revenue': 'y'})\n",
        "df_gmv_prophet['ds'] = pd.to_datetime(df_gmv_prophet['ds'].str.split('/').str[0])"
      ],
      "metadata": {
        "id": "AAoztpuofKD8"
      },
      "execution_count": null,
      "outputs": []
    },
    {
      "cell_type": "code",
      "source": [
        "# Step 4: Prepare for LSTM\n",
        "df_gmv_lstm = df_gmv_prophet.copy()"
      ],
      "metadata": {
        "id": "kh-WzLp-fMCF"
      },
      "execution_count": null,
      "outputs": []
    },
    {
      "cell_type": "code",
      "source": [
        "# Optional: Preview\n",
        "print(\"✅ Prophet-ready GMV data:\")\n",
        "print(df_gmv_prophet)"
      ],
      "metadata": {
        "colab": {
          "base_uri": "https://localhost:8080/"
        },
        "id": "QY2FtoP8fOOK",
        "outputId": "8bb2a590-ec96-4830-adfd-a2f3a1137774"
      },
      "execution_count": null,
      "outputs": [
        {
          "output_type": "stream",
          "name": "stdout",
          "text": [
            "✅ Prophet-ready GMV data:\n",
            "          ds              y\n",
            "0 2020-12-28   35782.025271\n",
            "1 2021-01-04   86003.772623\n",
            "2 2021-01-11  101544.020158\n",
            "3 2021-01-18   94126.959040\n",
            "4 2021-01-25   92114.743833\n",
            "5 2021-02-01   92213.537501\n",
            "6 2021-02-08   84240.890944\n",
            "7 2021-02-15   90741.801779\n",
            "8 2021-02-22   87891.908177\n",
            "9 2021-03-01    9540.276555\n"
          ]
        }
      ]
    },
    {
      "cell_type": "code",
      "source": [
        "print(\"\\n✅ LSTM-ready GMV series:\")\n",
        "print(df_gmv_lstm['y'].values)"
      ],
      "metadata": {
        "colab": {
          "base_uri": "https://localhost:8080/"
        },
        "id": "6bbB_WJUfREk",
        "outputId": "1cbb3c20-3987-4538-94a9-6f0e6246cd47"
      },
      "execution_count": null,
      "outputs": [
        {
          "output_type": "stream",
          "name": "stdout",
          "text": [
            "\n",
            "✅ LSTM-ready GMV series:\n",
            "[ 35782.0252712   86003.77262279 101544.02015837  94126.95903999\n",
            "  92114.74383341  92213.53750076  84240.89094372  90741.80177861\n",
            "  87891.90817679   9540.27655491]\n"
          ]
        }
      ]
    },
    {
      "cell_type": "code",
      "source": [
        "from prophet import Prophet\n",
        "import matplotlib.pyplot as plt"
      ],
      "metadata": {
        "id": "Oo_gF86VfVtt"
      },
      "execution_count": null,
      "outputs": []
    },
    {
      "cell_type": "code",
      "source": [
        "# Step 1: Fit the model\n",
        "model = Prophet()\n",
        "model.fit(df_gmv_prophet)"
      ],
      "metadata": {
        "colab": {
          "base_uri": "https://localhost:8080/"
        },
        "id": "lkJRO579fcTJ",
        "outputId": "fb513dfd-2f41-4578-ebc0-e1360aaf8030"
      },
      "execution_count": null,
      "outputs": [
        {
          "output_type": "stream",
          "name": "stderr",
          "text": [
            "INFO:prophet:Disabling yearly seasonality. Run prophet with yearly_seasonality=True to override this.\n",
            "INFO:prophet:Disabling weekly seasonality. Run prophet with weekly_seasonality=True to override this.\n",
            "INFO:prophet:Disabling daily seasonality. Run prophet with daily_seasonality=True to override this.\n",
            "INFO:prophet:n_changepoints greater than number of observations. Using 7.\n",
            "DEBUG:cmdstanpy:input tempfile: /tmp/tmpdgnqfb7t/v4l00xbl.json\n",
            "DEBUG:cmdstanpy:input tempfile: /tmp/tmpdgnqfb7t/c7u7a48p.json\n",
            "DEBUG:cmdstanpy:idx 0\n",
            "DEBUG:cmdstanpy:running CmdStan, num_threads: None\n",
            "DEBUG:cmdstanpy:CmdStan args: ['/usr/local/lib/python3.11/dist-packages/prophet/stan_model/prophet_model.bin', 'random', 'seed=45793', 'data', 'file=/tmp/tmpdgnqfb7t/v4l00xbl.json', 'init=/tmp/tmpdgnqfb7t/c7u7a48p.json', 'output', 'file=/tmp/tmpdgnqfb7t/prophet_model912r7bmn/prophet_model-20250620175826.csv', 'method=optimize', 'algorithm=newton', 'iter=10000']\n",
            "17:58:26 - cmdstanpy - INFO - Chain [1] start processing\n",
            "INFO:cmdstanpy:Chain [1] start processing\n",
            "17:58:26 - cmdstanpy - INFO - Chain [1] done processing\n",
            "INFO:cmdstanpy:Chain [1] done processing\n"
          ]
        },
        {
          "output_type": "execute_result",
          "data": {
            "text/plain": [
              "<prophet.forecaster.Prophet at 0x7d4c809c4190>"
            ]
          },
          "metadata": {},
          "execution_count": 10
        }
      ]
    },
    {
      "cell_type": "code",
      "source": [
        "# Step 2: Future frame (4 weeks ahead)\n",
        "future = model.make_future_dataframe(periods=4, freq='W-MON')"
      ],
      "metadata": {
        "id": "MWMahlhGfeXh"
      },
      "execution_count": null,
      "outputs": []
    },
    {
      "cell_type": "code",
      "source": [
        "# Step 3: Forecast\n",
        "forecast = model.predict(future)"
      ],
      "metadata": {
        "id": "c3mUBNqmfhEw"
      },
      "execution_count": null,
      "outputs": []
    },
    {
      "cell_type": "code",
      "source": [
        "# Step 4: Plot forecast\n",
        "model.plot(forecast)\n",
        "plt.title(\"Prophet Forecast – GMV\")\n",
        "plt.xlabel(\"Week\")\n",
        "plt.ylabel(\"Expected Revenue (GMV)\")\n",
        "plt.grid(True)\n",
        "plt.tight_layout()\n",
        "plt.show()"
      ],
      "metadata": {
        "colab": {
          "base_uri": "https://localhost:8080/",
          "height": 607
        },
        "id": "rOsz_D0ifjCQ",
        "outputId": "46167d3d-0f7c-414a-d939-5051e5a63cc8"
      },
      "execution_count": null,
      "outputs": [
        {
          "output_type": "display_data",
          "data": {
            "text/plain": [
              "<Figure size 1000x600 with 1 Axes>"
            ],
            "image/png": "[encoded data removed]"
          },
          "metadata": {}
        }
      ]
    },
    {
      "cell_type": "code",
      "source": [
        "# Step 5: View forecasted values\n",
        "forecast[['ds', 'yhat', 'yhat_lower', 'yhat_upper']].tail(4)"
      ],
      "metadata": {
        "colab": {
          "base_uri": "https://localhost:8080/",
          "height": 174
        },
        "id": "xPSFbzEdflE6",
        "outputId": "511e5c39-4ffd-4fc4-b06b-a6a1d71f8f89"
      },
      "execution_count": null,
      "outputs": [
        {
          "output_type": "execute_result",
          "data": {
            "text/plain": [
              "           ds          yhat    yhat_lower     yhat_upper\n",
              "10 2021-03-08  67323.617576  30803.217621  102861.086174\n",
              "11 2021-03-15  65485.806188  31983.395977  102138.117974\n",
              "12 2021-03-22  63647.994800  26828.754556   98777.163530\n",
              "13 2021-03-29  61810.183413  27390.247436   95496.258874"
            ],
            "text/html": [
              "\n",
              "  <div id=\"df-2b8130f9-d12a-4775-8b5d-7258dd218e8a\" class=\"colab-df-container\">\n",
              "    <div>\n",
              "<style scoped>\n",
              "    .dataframe tbody tr th:only-of-type {\n",
              "        vertical-align: middle;\n",
              "    }\n",
              "\n",
              "    .dataframe tbody tr th {\n",
              "        vertical-align: top;\n",
              "    }\n",
              "\n",
              "    .dataframe thead th {\n",
              "        text-align: right;\n",
              "    }\n",
              "</style>\n",
              "<table border=\"1\" class=\"dataframe\">\n",
              "  <thead>\n",
              "    <tr style=\"text-align: right;\">\n",
              "      <th></th>\n",
              "      <th>ds</th>\n",
              "      <th>yhat</th>\n",
              "      <th>yhat_lower</th>\n",
              "      <th>yhat_upper</th>\n",
              "    </tr>\n",
              "  </thead>\n",
              "  <tbody>\n",
              "    <tr>\n",
              "      <th>10</th>\n",
              "      <td>2021-03-08</td>\n",
              "      <td>67323.617576</td>\n",
              "      <td>30803.217621</td>\n",
              "      <td>102861.086174</td>\n",
              "    </tr>\n",
              "    <tr>\n",
              "      <th>11</th>\n",
              "      <td>2021-03-15</td>\n",
              "      <td>65485.806188</td>\n",
              "      <td>31983.395977</td>\n",
              "      <td>102138.117974</td>\n",
              "    </tr>\n",
              "    <tr>\n",
              "      <th>12</th>\n",
              "      <td>2021-03-22</td>\n",
              "      <td>63647.994800</td>\n",
              "      <td>26828.754556</td>\n",
              "      <td>98777.163530</td>\n",
              "    </tr>\n",
              "    <tr>\n",
              "      <th>13</th>\n",
              "      <td>2021-03-29</td>\n",
              "      <td>61810.183413</td>\n",
              "      <td>27390.247436</td>\n",
              "      <td>95496.258874</td>\n",
              "    </tr>\n",
              "  </tbody>\n",
              "</table>\n",
              "</div>\n",
              "    <div class=\"colab-df-buttons\">\n",
              "\n",
              "  <div class=\"colab-df-container\">\n",
              "    <button class=\"colab-df-convert\" onclick=\"convertToInteractive('df-2b8130f9-d12a-4775-8b5d-7258dd218e8a')\"\n",
              "            title=\"Convert this dataframe to an interactive table.\"\n",
              "            style=\"display:none;\">\n",
              "\n",
              "  <svg xmlns=\"http://www.w3.org/2000/svg\" height=\"24px\" viewBox=\"0 -960 960 960\">\n",
              "    <path d=\"M120-120v-720h720v720H120Zm60-500h600v-160H180v160Zm220 220h160v-160H400v160Zm0 220h160v-160H400v160ZM180-400h160v-160H180v160Zm440 0h160v-160H620v160ZM180-180h160v-160H180v160Zm440 0h160v-160H620v160Z\"/>\n",
              "  </svg>\n",
              "    </button>\n",
              "\n",
              "  <style>\n",
              "    .colab-df-container {\n",
              "      display:flex;\n",
              "      gap: 12px;\n",
              "    }\n",
              "\n",
              "    .colab-df-convert {\n",
              "      background-color: #E8F0FE;\n",
              "      border: none;\n",
              "      border-radius: 50%;\n",
              "      cursor: pointer;\n",
              "      display: none;\n",
              "      fill: #1967D2;\n",
              "      height: 32px;\n",
              "      padding: 0 0 0 0;\n",
              "      width: 32px;\n",
              "    }\n",
              "\n",
              "    .colab-df-convert:hover {\n",
              "      background-color: #E2EBFA;\n",
              "      box-shadow: 0px 1px 2px rgba(60, 64, 67, 0.3), 0px 1px 3px 1px rgba(60, 64, 67, 0.15);\n",
              "      fill: #174EA6;\n",
              "    }\n",
              "\n",
              "    .colab-df-buttons div {\n",
              "      margin-bottom: 4px;\n",
              "    }\n",
              "\n",
              "    [theme=dark] .colab-df-convert {\n",
              "      background-color: #3B4455;\n",
              "      fill: #D2E3FC;\n",
              "    }\n",
              "\n",
              "    [theme=dark] .colab-df-convert:hover {\n",
              "      background-color: #434B5C;\n",
              "      box-shadow: 0px 1px 3px 1px rgba(0, 0, 0, 0.15);\n",
              "      filter: drop-shadow(0px 1px 2px rgba(0, 0, 0, 0.3));\n",
              "      fill: #FFFFFF;\n",
              "    }\n",
              "  </style>\n",
              "\n",
              "    <script>\n",
              "      const buttonEl =\n",
              "        document.querySelector('#df-2b8130f9-d12a-4775-8b5d-7258dd218e8a button.colab-df-convert');\n",
              "      buttonEl.style.display =\n",
              "        google.colab.kernel.accessAllowed ? 'block' : 'none';\n",
              "\n",
              "      async function convertToInteractive(key) {\n",
              "        const element = document.querySelector('#df-2b8130f9-d12a-4775-8b5d-7258dd218e8a');\n",
              "        const dataTable =\n",
              "          await google.colab.kernel.invokeFunction('convertToInteractive',\n",
              "                                                    [key], {});\n",
              "        if (!dataTable) return;\n",
              "\n",
              "        const docLinkHtml = 'Like what you see? Visit the ' +\n",
              "          '<a target=\"_blank\" href=https://colab.research.google.com/notebooks/data_table.ipynb>data table notebook</a>'\n",
              "          + ' to learn more about interactive tables.';\n",
              "        element.innerHTML = '';\n",
              "        dataTable['output_type'] = 'display_data';\n",
              "        await google.colab.output.renderOutput(dataTable, element);\n",
              "        const docLink = document.createElement('div');\n",
              "        docLink.innerHTML = docLinkHtml;\n",
              "        element.appendChild(docLink);\n",
              "      }\n",
              "    </script>\n",
              "  </div>\n",
              "\n",
              "\n",
              "    <div id=\"df-630a78b8-3ec6-438a-8003-6a2891a2f2c5\">\n",
              "      <button class=\"colab-df-quickchart\" onclick=\"quickchart('df-630a78b8-3ec6-438a-8003-6a2891a2f2c5')\"\n",
              "                title=\"Suggest charts\"\n",
              "                style=\"display:none;\">\n",
              "\n",
              "<svg xmlns=\"http://www.w3.org/2000/svg\" height=\"24px\"viewBox=\"0 0 24 24\"\n",
              "     width=\"24px\">\n",
              "    <g>\n",
              "        <path d=\"M19 3H5c-1.1 0-2 .9-2 2v14c0 1.1.9 2 2 2h14c1.1 0 2-.9 2-2V5c0-1.1-.9-2-2-2zM9 17H7v-7h2v7zm4 0h-2V7h2v10zm4 0h-2v-4h2v4z\"/>\n",
              "    </g>\n",
              "</svg>\n",
              "      </button>\n",
              "\n",
              "<style>\n",
              "  .colab-df-quickchart {\n",
              "      --bg-color: #E8F0FE;\n",
              "      --fill-color: #1967D2;\n",
              "      --hover-bg-color: #E2EBFA;\n",
              "      --hover-fill-color: #174EA6;\n",
              "      --disabled-fill-color: #AAA;\n",
              "      --disabled-bg-color: #DDD;\n",
              "  }\n",
              "\n",
              "  [theme=dark] .colab-df-quickchart {\n",
              "      --bg-color: #3B4455;\n",
              "      --fill-color: #D2E3FC;\n",
              "      --hover-bg-color: #434B5C;\n",
              "      --hover-fill-color: #FFFFFF;\n",
              "      --disabled-bg-color: #3B4455;\n",
              "      --disabled-fill-color: #666;\n",
              "  }\n",
              "\n",
              "  .colab-df-quickchart {\n",
              "    background-color: var(--bg-color);\n",
              "    border: none;\n",
              "    border-radius: 50%;\n",
              "    cursor: pointer;\n",
              "    display: none;\n",
              "    fill: var(--fill-color);\n",
              "    height: 32px;\n",
              "    padding: 0;\n",
              "    width: 32px;\n",
              "  }\n",
              "\n",
              "  .colab-df-quickchart:hover {\n",
              "    background-color: var(--hover-bg-color);\n",
              "    box-shadow: 0 1px 2px rgba(60, 64, 67, 0.3), 0 1px 3px 1px rgba(60, 64, 67, 0.15);\n",
              "    fill: var(--button-hover-fill-color);\n",
              "  }\n",
              "\n",
              "  .colab-df-quickchart-complete:disabled,\n",
              "  .colab-df-quickchart-complete:disabled:hover {\n",
              "    background-color: var(--disabled-bg-color);\n",
              "    fill: var(--disabled-fill-color);\n",
              "    box-shadow: none;\n",
              "  }\n",
              "\n",
              "  .colab-df-spinner {\n",
              "    border: 2px solid var(--fill-color);\n",
              "    border-color: transparent;\n",
              "    border-bottom-color: var(--fill-color);\n",
              "    animation:\n",
              "      spin 1s steps(1) infinite;\n",
              "  }\n",
              "\n",
              "  @keyframes spin {\n",
              "    0% {\n",
              "      border-color: transparent;\n",
              "      border-bottom-color: var(--fill-color);\n",
              "      border-left-color: var(--fill-color);\n",
              "    }\n",
              "    20% {\n",
              "      border-color: transparent;\n",
              "      border-left-color: var(--fill-color);\n",
              "      border-top-color: var(--fill-color);\n",
              "    }\n",
              "    30% {\n",
              "      border-color: transparent;\n",
              "      border-left-color: var(--fill-color);\n",
              "      border-top-color: var(--fill-color);\n",
              "      border-right-color: var(--fill-color);\n",
              "    }\n",
              "    40% {\n",
              "      border-color: transparent;\n",
              "      border-right-color: var(--fill-color);\n",
              "      border-top-color: var(--fill-color);\n",
              "    }\n",
              "    60% {\n",
              "      border-color: transparent;\n",
              "      border-right-color: var(--fill-color);\n",
              "    }\n",
              "    80% {\n",
              "      border-color: transparent;\n",
              "      border-right-color: var(--fill-color);\n",
              "      border-bottom-color: var(--fill-color);\n",
              "    }\n",
              "    90% {\n",
              "      border-color: transparent;\n",
              "      border-bottom-color: var(--fill-color);\n",
              "    }\n",
              "  }\n",
              "</style>\n",
              "\n",
              "      <script>\n",
              "        async function quickchart(key) {\n",
              "          const quickchartButtonEl =\n",
              "            document.querySelector('#' + key + ' button');\n",
              "          quickchartButtonEl.disabled = true;  // To prevent multiple clicks.\n",
              "          quickchartButtonEl.classList.add('colab-df-spinner');\n",
              "          try {\n",
              "            const charts = await google.colab.kernel.invokeFunction(\n",
              "                'suggestCharts', [key], {});\n",
              "          } catch (error) {\n",
              "            console.error('Error during call to suggestCharts:', error);\n",
              "          }\n",
              "          quickchartButtonEl.classList.remove('colab-df-spinner');\n",
              "          quickchartButtonEl.classList.add('colab-df-quickchart-complete');\n",
              "        }\n",
              "        (() => {\n",
              "          let quickchartButtonEl =\n",
              "            document.querySelector('#df-630a78b8-3ec6-438a-8003-6a2891a2f2c5 button');\n",
              "          quickchartButtonEl.style.display =\n",
              "            google.colab.kernel.accessAllowed ? 'block' : 'none';\n",
              "        })();\n",
              "      </script>\n",
              "    </div>\n",
              "\n",
              "    </div>\n",
              "  </div>\n"
            ],
            "application/vnd.google.colaboratory.intrinsic+json": {
              "type": "dataframe",
              "summary": "{\n  \"name\": \"forecast[['ds', 'yhat', 'yhat_lower', 'yhat_upper']]\",\n  \"rows\": 4,\n  \"fields\": [\n    {\n      \"column\": \"ds\",\n      \"properties\": {\n        \"dtype\": \"date\",\n        \"min\": \"2021-03-08 00:00:00\",\n        \"max\": \"2021-03-29 00:00:00\",\n        \"num_unique_values\": 4,\n        \"samples\": [\n          \"2021-03-15 00:00:00\",\n          \"2021-03-29 00:00:00\",\n          \"2021-03-08 00:00:00\"\n        ],\n        \"semantic_type\": \"\",\n        \"description\": \"\"\n      }\n    },\n    {\n      \"column\": \"yhat\",\n      \"properties\": {\n        \"dtype\": \"number\",\n        \"std\": 2372.604299502539,\n        \"min\": 61810.18341258108,\n        \"max\": 67323.61757604915,\n        \"num_unique_values\": 4,\n        \"samples\": [\n          65485.80618822646,\n          61810.18341258108,\n          67323.61757604915\n        ],\n        \"semantic_type\": \"\",\n        \"description\": \"\"\n      }\n    },\n    {\n      \"column\": \"yhat_lower\",\n      \"properties\": {\n        \"dtype\": \"number\",\n        \"std\": 2530.1541297928384,\n        \"min\": 26828.75455627526,\n        \"max\": 31983.395977353717,\n        \"num_unique_values\": 4,\n        \"samples\": [\n          31983.395977353717,\n          27390.24743588036,\n          30803.217620849107\n        ],\n        \"semantic_type\": \"\",\n        \"description\": \"\"\n      }\n    },\n    {\n      \"column\": \"yhat_upper\",\n      \"properties\": {\n        \"dtype\": \"number\",\n        \"std\": 3386.4488626485945,\n        \"min\": 95496.25887373897,\n        \"max\": 102861.08617382543,\n        \"num_unique_values\": 4,\n        \"samples\": [\n          102138.11797443703,\n          95496.25887373897,\n          102861.08617382543\n        ],\n        \"semantic_type\": \"\",\n        \"description\": \"\"\n      }\n    }\n  ]\n}"
            }
          },
          "metadata": {},
          "execution_count": 14
        }
      ]
    },
    {
      "cell_type": "code",
      "source": [
        "import numpy as np\n",
        "from tensorflow.keras.models import Sequential\n",
        "from tensorflow.keras.layers import LSTM, Dense\n",
        "from sklearn.preprocessing import MinMaxScaler\n",
        "import matplotlib.pyplot as plt\n",
        "import pandas as pd"
      ],
      "metadata": {
        "id": "ZrvOZppDfn_N"
      },
      "execution_count": null,
      "outputs": []
    },
    {
      "cell_type": "code",
      "source": [
        "# Step 1: Prepare series\n",
        "gmv_series = df_gmv_lstm['y'].values.reshape(-1, 1)"
      ],
      "metadata": {
        "id": "fyR8hsxtf5ZI"
      },
      "execution_count": null,
      "outputs": []
    },
    {
      "cell_type": "code",
      "source": [
        "# Step 2: Normalize to 0–1\n",
        "scaler = MinMaxScaler()\n",
        "scaled_gmv = scaler.fit_transform(gmv_series)"
      ],
      "metadata": {
        "id": "vMZGYkC-f9UF"
      },
      "execution_count": null,
      "outputs": []
    },
    {
      "cell_type": "code",
      "source": [
        "# Step 3: Create sequences (use last 4 weeks to predict next)\n",
        "sequence_length = 4\n",
        "X, y = [], []\n",
        "for i in range(len(scaled_gmv) - sequence_length):\n",
        "    X.append(scaled_gmv[i:i + sequence_length])\n",
        "    y.append(scaled_gmv[i + sequence_length])\n",
        "X = np.array(X)\n",
        "y = np.array(y)\n",
        "X = X.reshape((X.shape[0], X.shape[1], 1))"
      ],
      "metadata": {
        "id": "NuOoVeKuf_JP"
      },
      "execution_count": null,
      "outputs": []
    },
    {
      "cell_type": "code",
      "source": [
        "# Step 4: Define & train LSTM model\n",
        "model = Sequential()\n",
        "model.add(LSTM(50, activation='relu', input_shape=(sequence_length, 1)))\n",
        "model.add(Dense(1))\n",
        "model.compile(optimizer='adam', loss='mse')\n",
        "model.fit(X, y, epochs=200, verbose=0)"
      ],
      "metadata": {
        "colab": {
          "base_uri": "https://localhost:8080/"
        },
        "id": "pyA7VswagBFJ",
        "outputId": "dc528abd-1fc9-4734-d787-997626675f6f"
      },
      "execution_count": null,
      "outputs": [
        {
          "output_type": "stream",
          "name": "stderr",
          "text": [
            "/usr/local/lib/python3.11/dist-packages/keras/src/layers/rnn/rnn.py:200: UserWarning: Do not pass an `input_shape`/`input_dim` argument to a layer. When using Sequential models, prefer using an `Input(shape)` object as the first layer in the model instead.\n",
            "  super().__init__(**kwargs)\n"
          ]
        },
        {
          "output_type": "execute_result",
          "data": {
            "text/plain": [
              "<keras.src.callbacks.history.History at 0x7d4bc9dbead0>"
            ]
          },
          "metadata": {},
          "execution_count": 19
        }
      ]
    },
    {
      "cell_type": "code",
      "source": [
        "# Step 5: Forecast next 4 weeks\n",
        "future_steps = 4\n",
        "last_seq = scaled_gmv[-sequence_length:].reshape(1, sequence_length, 1)\n",
        "predictions = []\n",
        "for _ in range(future_steps):\n",
        "    pred = model.predict(last_seq)[0][0]\n",
        "    predictions.append(pred)\n",
        "    last_seq = np.append(last_seq[:, 1:, :], [[[pred]]], axis=1)"
      ],
      "metadata": {
        "colab": {
          "base_uri": "https://localhost:8080/"
        },
        "id": "1XWjkan5gDIG",
        "outputId": "234cd946-e519-4647-e2cc-2a0fc176e4b4"
      },
      "execution_count": null,
      "outputs": [
        {
          "output_type": "stream",
          "name": "stdout",
          "text": [
            "\u001b[1m1/1\u001b[0m \u001b[32m━━━━━━━━━━━━━━━━━━━━\u001b[0m\u001b[37m\u001b[0m \u001b[1m1s\u001b[0m 765ms/step\n",
            "\u001b[1m1/1\u001b[0m \u001b[32m━━━━━━━━━━━━━━━━━━━━\u001b[0m\u001b[37m\u001b[0m \u001b[1m0s\u001b[0m 90ms/step\n",
            "\u001b[1m1/1\u001b[0m \u001b[32m━━━━━━━━━━━━━━━━━━━━\u001b[0m\u001b[37m\u001b[0m \u001b[1m0s\u001b[0m 98ms/step\n",
            "\u001b[1m1/1\u001b[0m \u001b[32m━━━━━━━━━━━━━━━━━━━━\u001b[0m\u001b[37m\u001b[0m \u001b[1m0s\u001b[0m 120ms/step\n"
          ]
        }
      ]
    },
    {
      "cell_type": "code",
      "source": [
        "# Step 6: Inverse transform\n",
        "predicted_gmv = scaler.inverse_transform(np.array(predictions).reshape(-1, 1))"
      ],
      "metadata": {
        "id": "IYk4FBEOgdbq"
      },
      "execution_count": null,
      "outputs": []
    },
    {
      "cell_type": "code",
      "source": [
        "# Step 7: Plot actual + forecasted\n",
        "weeks_future = pd.date_range(start=df_gmv_lstm['ds'].iloc[-1] + pd.Timedelta(weeks=1), periods=future_steps, freq='W-MON')\n",
        "plt.plot(df_gmv_lstm['ds'], df_gmv_lstm['y'], marker='o', label='Actual GMV')\n",
        "plt.plot(weeks_future, predicted_gmv, marker='x', linestyle='--', color='red', label='LSTM Forecast')\n",
        "plt.title(\"LSTM Forecast – GMV\")\n",
        "plt.xlabel(\"Week\")\n",
        "plt.ylabel(\"Expected Revenue (GMV)\")\n",
        "plt.grid(True)\n",
        "plt.legend()\n",
        "plt.tight_layout()\n",
        "plt.show()"
      ],
      "metadata": {
        "colab": {
          "base_uri": "https://localhost:8080/",
          "height": 487
        },
        "id": "Vb594_XRgguX",
        "outputId": "1590cc6b-cab8-4e57-cf6b-7d294a0dc464"
      },
      "execution_count": null,
      "outputs": [
        {
          "output_type": "display_data",
          "data": {
            "text/plain": [
              "<Figure size 640x480 with 1 Axes>"
            ],
            "image/png": "[encoded data removed]"
          },
          "metadata": {}
        }
      ]
    },
    {
      "cell_type": "code",
      "source": [
        "# Step 8: Print predicted values\n",
        "print(\"🧠 LSTM Forecast – GMV (₹):\")\n",
        "for date, val in zip(weeks_future, predicted_gmv.flatten()):\n",
        "    print(f\"{date.date()} → ₹{val:,.2f}\")"
      ],
      "metadata": {
        "colab": {
          "base_uri": "https://localhost:8080/"
        },
        "id": "GKFWZGBBgj37",
        "outputId": "da8699a0-d8ba-43d7-9217-1afb5618f7c7"
      },
      "execution_count": null,
      "outputs": [
        {
          "output_type": "stream",
          "name": "stdout",
          "text": [
            "🧠 LSTM Forecast – GMV (₹):\n",
            "2021-03-08 → ₹62,546.82\n",
            "2021-03-15 → ₹59,057.72\n",
            "2021-03-22 → ₹54,296.09\n",
            "2021-03-29 → ₹49,662.00\n"
          ]
        }
      ]
    },
    {
      "cell_type": "markdown",
      "source": [
        "Testing"
      ],
      "metadata": {
        "id": "g-I5loXYhE6j"
      }
    },
    {
      "cell_type": "code",
      "source": [
        "import numpy as np\n",
        "import pandas as pd\n",
        "from sklearn.metrics import mean_absolute_error, mean_squared_error\n",
        "from prophet import Prophet\n",
        "from tensorflow.keras.models import Sequential\n",
        "from tensorflow.keras.layers import LSTM, Dense\n",
        "from sklearn.preprocessing import MinMaxScaler\n",
        "import matplotlib.pyplot as plt"
      ],
      "metadata": {
        "id": "6IdNDB7Ehh2c"
      },
      "execution_count": null,
      "outputs": []
    },
    {
      "cell_type": "code",
      "source": [
        "### Step 1: Prepare data\n",
        "# Use first 8 weeks to train\n",
        "train_prophet = df_gmv_lstm.iloc[:8].copy()\n",
        "test_prophet = df_gmv_lstm.iloc[8:].copy()  # weeks 9 & 10"
      ],
      "metadata": {
        "id": "mNoO0TN3iFEE"
      },
      "execution_count": null,
      "outputs": []
    },
    {
      "cell_type": "code",
      "source": [
        "# Rename for Prophet\n",
        "train_prophet.columns = ['ds', 'y']\n",
        "test_prophet.columns = ['ds', 'y']"
      ],
      "metadata": {
        "id": "WRh9YDlHiG-O"
      },
      "execution_count": null,
      "outputs": []
    },
    {
      "cell_type": "code",
      "source": [
        "# Prophet model\n",
        "prophet_model = Prophet()\n",
        "prophet_model.fit(train_prophet)\n",
        "future = prophet_model.make_future_dataframe(periods=2, freq='W-MON')\n",
        "forecast = prophet_model.predict(future)\n",
        "pred_prophet = forecast[['ds', 'yhat']].iloc[-2:]['yhat'].values\n",
        "actual_gmv = test_prophet['y'].values"
      ],
      "metadata": {
        "colab": {
          "base_uri": "https://localhost:8080/"
        },
        "id": "EHdZAqvEiIrt",
        "outputId": "fd7679c8-b1db-41a9-d22a-b08dad1e92b1"
      },
      "execution_count": null,
      "outputs": [
        {
          "output_type": "stream",
          "name": "stderr",
          "text": [
            "INFO:prophet:Disabling yearly seasonality. Run prophet with yearly_seasonality=True to override this.\n",
            "INFO:prophet:Disabling weekly seasonality. Run prophet with weekly_seasonality=True to override this.\n",
            "INFO:prophet:Disabling daily seasonality. Run prophet with daily_seasonality=True to override this.\n",
            "INFO:prophet:n_changepoints greater than number of observations. Using 5.\n",
            "DEBUG:cmdstanpy:input tempfile: /tmp/tmpdgnqfb7t/mvnhkl90.json\n",
            "DEBUG:cmdstanpy:input tempfile: /tmp/tmpdgnqfb7t/1jsommk0.json\n",
            "DEBUG:cmdstanpy:idx 0\n",
            "DEBUG:cmdstanpy:running CmdStan, num_threads: None\n",
            "DEBUG:cmdstanpy:CmdStan args: ['/usr/local/lib/python3.11/dist-packages/prophet/stan_model/prophet_model.bin', 'random', 'seed=21727', 'data', 'file=/tmp/tmpdgnqfb7t/mvnhkl90.json', 'init=/tmp/tmpdgnqfb7t/1jsommk0.json', 'output', 'file=/tmp/tmpdgnqfb7t/prophet_modeloq9ldd1q/prophet_model-20250620181009.csv', 'method=optimize', 'algorithm=newton', 'iter=10000']\n",
            "18:10:09 - cmdstanpy - INFO - Chain [1] start processing\n",
            "INFO:cmdstanpy:Chain [1] start processing\n",
            "18:10:09 - cmdstanpy - INFO - Chain [1] done processing\n",
            "INFO:cmdstanpy:Chain [1] done processing\n"
          ]
        }
      ]
    },
    {
      "cell_type": "code",
      "source": [
        "# LSTM setup\n",
        "gmv_series = df_gmv_lstm['y'].values.reshape(-1, 1)\n",
        "scaler = MinMaxScaler()\n",
        "scaled_gmv = scaler.fit_transform(gmv_series)"
      ],
      "metadata": {
        "id": "EnQVRjFeiKeQ"
      },
      "execution_count": null,
      "outputs": []
    },
    {
      "cell_type": "code",
      "source": [
        "# Prepare training data (8 weeks)\n",
        "X, y = [], []\n",
        "sequence_length = 4\n",
        "for i in range(0, 8 - sequence_length):\n",
        "    X.append(scaled_gmv[i:i+sequence_length])\n",
        "    y.append(scaled_gmv[i+sequence_length])\n",
        "X = np.array(X)\n",
        "y = np.array(y)\n",
        "X = X.reshape((X.shape[0], X.shape[1], 1))"
      ],
      "metadata": {
        "id": "KiH_V83uiNvV"
      },
      "execution_count": null,
      "outputs": []
    },
    {
      "cell_type": "code",
      "source": [
        "# Train LSTM\n",
        "model = Sequential()\n",
        "model.add(LSTM(50, activation='relu', input_shape=(sequence_length, 1)))\n",
        "model.add(Dense(1))\n",
        "model.compile(optimizer='adam', loss='mse')\n",
        "model.fit(X, y, epochs=200, verbose=0)"
      ],
      "metadata": {
        "colab": {
          "base_uri": "https://localhost:8080/"
        },
        "id": "ulsQiPMRiPl2",
        "outputId": "041b23ce-2a8e-47f6-8771-20e81ba2a1be"
      },
      "execution_count": null,
      "outputs": [
        {
          "output_type": "stream",
          "name": "stderr",
          "text": [
            "/usr/local/lib/python3.11/dist-packages/keras/src/layers/rnn/rnn.py:200: UserWarning: Do not pass an `input_shape`/`input_dim` argument to a layer. When using Sequential models, prefer using an `Input(shape)` object as the first layer in the model instead.\n",
            "  super().__init__(**kwargs)\n"
          ]
        },
        {
          "output_type": "execute_result",
          "data": {
            "text/plain": [
              "<keras.src.callbacks.history.History at 0x7d4bc9556ad0>"
            ]
          },
          "metadata": {},
          "execution_count": 39
        }
      ]
    },
    {
      "cell_type": "code",
      "source": [
        "# Forecast 2 future points from last 4\n",
        "last_seq = scaled_gmv[8 - sequence_length:8].reshape(1, sequence_length, 1)\n",
        "lstm_preds = []\n",
        "for _ in range(2):\n",
        "    pred = model.predict(last_seq)[0][0]\n",
        "    lstm_preds.append(pred)\n",
        "    last_seq = np.append(last_seq[:, 1:, :], [[[pred]]], axis=1)\n",
        "pred_lstm = scaler.inverse_transform(np.array(lstm_preds).reshape(-1, 1)).flatten()"
      ],
      "metadata": {
        "colab": {
          "base_uri": "https://localhost:8080/"
        },
        "id": "7t85Own6ivC9",
        "outputId": "a8b7eeb8-add6-4333-8a05-2e78f89dd4af"
      },
      "execution_count": null,
      "outputs": [
        {
          "output_type": "stream",
          "name": "stdout",
          "text": [
            "\u001b[1m1/1\u001b[0m \u001b[32m━━━━━━━━━━━━━━━━━━━━\u001b[0m\u001b[37m\u001b[0m \u001b[1m1s\u001b[0m 525ms/step\n",
            "\u001b[1m1/1\u001b[0m \u001b[32m━━━━━━━━━━━━━━━━━━━━\u001b[0m\u001b[37m\u001b[0m \u001b[1m0s\u001b[0m 60ms/step\n"
          ]
        }
      ]
    },
    {
      "cell_type": "code",
      "source": [
        "### Step 2: Compare Forecasts\n"
      ],
      "metadata": {
        "id": "Eh5xLstjiR-j"
      },
      "execution_count": null,
      "outputs": []
    },
    {
      "cell_type": "code",
      "source": [
        "# Actual values\n",
        "print(\"📊 Actual GMV:\", actual_gmv)\n",
        "print(\"📈 Prophet Forecast:\", pred_prophet)\n",
        "print(\"🧠 LSTM Forecast:\", pred_lstm)"
      ],
      "metadata": {
        "colab": {
          "base_uri": "https://localhost:8080/"
        },
        "id": "3Ck2g48FioK_",
        "outputId": "5866c4e0-7545-48ea-df26-adffbee1d338"
      },
      "execution_count": null,
      "outputs": [
        {
          "output_type": "stream",
          "name": "stdout",
          "text": [
            "📊 Actual GMV: [87891.90817679  9540.27655491]\n",
            "📈 Prophet Forecast: [103121.8835882 107240.8861813]\n",
            "🧠 LSTM Forecast: [89251.16 88631.61]\n"
          ]
        }
      ]
    },
    {
      "cell_type": "code",
      "source": [
        "# Step 3: Evaluation Metrics\n",
        "mae_prophet = mean_absolute_error(actual_gmv, pred_prophet)\n",
        "rmse_prophet = np.sqrt(mean_squared_error(actual_gmv, pred_prophet))\n",
        "\n",
        "mae_lstm = mean_absolute_error(actual_gmv, pred_lstm)\n",
        "rmse_lstm = np.sqrt(mean_squared_error(actual_gmv, pred_lstm))\n",
        "\n",
        "print(f\"\\n✅ Prophet → MAE: {mae_prophet:.2f}, RMSE: {rmse_prophet:.2f}\")\n",
        "print(f\"✅ LSTM    → MAE: {mae_lstm:.2f}, RMSE: {rmse_lstm:.2f}\")"
      ],
      "metadata": {
        "colab": {
          "base_uri": "https://localhost:8080/"
        },
        "id": "Fi7U34Fqip2Q",
        "outputId": "6f1796b4-8992-4ebd-a933-ff40548e2e9e"
      },
      "execution_count": null,
      "outputs": [
        {
          "output_type": "stream",
          "name": "stdout",
          "text": [
            "\n",
            "✅ Prophet → MAE: 56465.29, RMSE: 69919.10\n",
            "✅ LSTM    → MAE: 40225.29, RMSE: 55934.28\n"
          ]
        }
      ]
    },
    {
      "cell_type": "code",
      "source": [],
      "metadata": {
        "id": "UDUkkttTi0rX"
      },
      "execution_count": null,
      "outputs": []
    }
  ]
}